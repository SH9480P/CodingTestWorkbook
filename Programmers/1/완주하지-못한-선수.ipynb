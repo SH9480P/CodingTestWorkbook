{
 "cells": [
  {
   "cell_type": "markdown",
   "metadata": {},
   "source": [
    "## 완주하지 못한 선수\n",
    "\n",
    "출처: https://school.programmers.co.kr/learn/courses/30/lessons/42576\n",
    "\n",
    "### 새롭게 알게 된 점\n",
    "- collections.Counter 자료형\n",
    "  - 배열이나 문자열 넣으면 동일한 element가 몇 개 있는지 dictionary처럼 반환\n",
    "  - counter에 most_common() 사용하면 내림차순으로 정렬한 배열을 반환함"
   ]
  },
  {
   "cell_type": "code",
   "execution_count": null,
   "metadata": {},
   "outputs": [],
   "source": [
    "from collections import defaultdict\n",
    "\n",
    "def solution(participant, completion):\n",
    "    completed = defaultdict(int)\n",
    "    for c in completion:\n",
    "        completed[c] += 1\n",
    "    for p in participant:\n",
    "        if completed[p]:\n",
    "            completed[p] -= 1\n",
    "        else:\n",
    "            return p\n",
    "    answer = ''\n",
    "    return answer"
   ]
  },
  {
   "cell_type": "code",
   "execution_count": null,
   "metadata": {},
   "outputs": [],
   "source": [
    "import collections\n",
    "\n",
    "def solution(participant, completion):\n",
    "    answer = collections.Counter(participant) - collections.Counter(completion)\n",
    "    return list(answer.keys())[0]"
   ]
  }
 ],
 "metadata": {
  "language_info": {
   "name": "python"
  }
 },
 "nbformat": 4,
 "nbformat_minor": 2
}
