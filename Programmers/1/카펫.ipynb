{
 "cells": [
  {
   "cell_type": "markdown",
   "metadata": {},
   "source": [
    "# 카펫\n",
    "\n",
    "소요시간: 12분\n",
    "\n",
    "작성일시: 24.03.10 18:20:01\n",
    "\n",
    "출처: https://school.programmers.co.kr/learn/courses/30/lessons/42842?language=python3\n",
    "\n",
    "### 접근 방법\n",
    "연립방정식 풀기\n",
    "\n",
    "### 시간 복잡도 분석\n",
    "최대 1250회 반복\n",
    "\n",
    "### 새로 알게 된 것\n",
    ".\n",
    "\n",
    "### 주의할 점\n",
    ".\n",
    "\n",
    "### 기타 코멘트\n",
    ".\n"
   ]
  },
  {
   "cell_type": "code",
   "execution_count": null,
   "metadata": {},
   "outputs": [],
   "source": [
    "def solution(brown, yellow):\n",
    "    sum = (brown + 4) // 2\n",
    "    mul = 2 * sum - 4 + yellow\n",
    "    for k in range(1, sum):\n",
    "        n = k\n",
    "        m = sum - k\n",
    "        if n * m == mul:\n",
    "            return [m, n]"
   ]
  }
 ],
 "metadata": {
  "language_info": {
   "name": "python"
  }
 },
 "nbformat": 4,
 "nbformat_minor": 2
}
