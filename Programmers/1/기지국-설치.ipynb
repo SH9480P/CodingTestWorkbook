{
 "cells": [
  {
   "cell_type": "markdown",
   "metadata": {},
   "source": [
    "# 기지국 설치\n",
    "\n",
    "소요시간: 40분\n",
    "\n",
    "작성일시: 24.03.25 00:46:41\n",
    "\n",
    "출처: https://school.programmers.co.kr/learn/courses/30/lessons/12979\n",
    "\n",
    "### 접근 방법\n",
    "1. 기존 기지국으로 커버되지 않는 구간 리스트를 생성한다.\n",
    "2. 빈 구간 하나당 필요한 기지국 수는 구간의 길이를 기지국 하나 설치했을 때 최대로 커버 가능한 길이로 나눈 결과를 올림한 값이다.\n",
    "3. 2번의 결과를 구간 리스트를 순회하면서 전부 더하고 반환한다.\n",
    "\n",
    "2번처럼 해도 되는 이유는, 하나의 빈 구간에 설치한 기지국은 다른 빈 구간에 영향을 미칠 수 없기 때문이다.\n",
    "\n",
    "### 시간 복잡도 분석\n",
    "기지국 개수 = N  \n",
    "시간복잡도 = O(N)\n",
    "\n",
    "### 새로 알게 된 것\n",
    ".\n",
    "\n",
    "### 주의할 점\n",
    ".\n",
    "\n",
    "### 기타 코멘트\n",
    ".\n"
   ]
  },
  {
   "cell_type": "code",
   "execution_count": null,
   "metadata": {},
   "outputs": [],
   "source": [
    "def solution(n, stations, w):\n",
    "    def find_empty():\n",
    "        last = 0\n",
    "        result = []\n",
    "        for s in stations:\n",
    "            left = max(s - w, 1)\n",
    "            right = min(n, s + w)\n",
    "            if last + 1 < left:\n",
    "                result.append((last+1, left-1))\n",
    "            last = right\n",
    "        if last < n:\n",
    "            result.append((last+1, n))\n",
    "        return result\n",
    "\n",
    "    def count():\n",
    "        ran = 1 + 2*w\n",
    "        cnt = 0\n",
    "        for a, b in empty:\n",
    "            cnt += -(-(b-a+1) // ran)\n",
    "        return cnt\n",
    "\n",
    "    empty = find_empty()\n",
    "    \n",
    "    return count()"
   ]
  }
 ],
 "metadata": {
  "language_info": {
   "name": "python"
  }
 },
 "nbformat": 4,
 "nbformat_minor": 2
}
