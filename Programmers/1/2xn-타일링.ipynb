{
 "cells": [
  {
   "cell_type": "markdown",
   "metadata": {},
   "source": [
    "# 2xn 타일링\n",
    "\n",
    "소요시간: 7분\n",
    "\n",
    "작성일시: 24.03.22 21:54:48\n",
    "\n",
    "출처: https://school.programmers.co.kr/learn/courses/30/lessons/12900\n",
    "\n",
    "### 접근 방법\n",
    "dp\n",
    "\n",
    "### 시간 복잡도 분석\n",
    "O(n)\n",
    "\n",
    "### 새로 알게 된 것\n",
    ".\n",
    "\n",
    "### 주의할 점\n",
    ".\n",
    "\n",
    "### 기타 코멘트\n",
    ".\n"
   ]
  },
  {
   "cell_type": "code",
   "execution_count": null,
   "metadata": {},
   "outputs": [],
   "source": [
    "def solution(n):\n",
    "    if n == 1:\n",
    "        return 1\n",
    "    dp = [0] * n\n",
    "    dp[0] = 1\n",
    "    dp[1] = 2\n",
    "    for i in range(2, n):\n",
    "        dp[i] = (dp[i-1] + dp[i-2]) % 1000000007\n",
    "    return dp[-1] % 1000000007"
   ]
  }
 ],
 "metadata": {
  "language_info": {
   "name": "python"
  }
 },
 "nbformat": 4,
 "nbformat_minor": 2
}
