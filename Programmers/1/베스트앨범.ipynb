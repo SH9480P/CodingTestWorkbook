{
 "cells": [
  {
   "cell_type": "markdown",
   "metadata": {},
   "source": [
    "## 베스트앨범\n",
    "\n",
    "출처: https://school.programmers.co.kr/learn/courses/30/lessons/42579\n",
    "\n",
    "### 주의할 점\n",
    "- edge case를 확인하지 못함. 문제 분석에 더 신경 쓸 것. (장르 내에서 재생 횟수가 같은 노래 중에서는 고유 번호가 낮은 노래를 먼저 수록합니다.)"
   ]
  },
  {
   "cell_type": "code",
   "execution_count": null,
   "metadata": {},
   "outputs": [],
   "source": [
    "from collections import defaultdict\n",
    "\n",
    "def solution(genres, plays):\n",
    "    answer = []\n",
    "    totalListenCnt = defaultdict(int)\n",
    "    top2ListenTable = defaultdict(list)\n",
    "    for i, (g, p) in enumerate(zip(genres, plays)):\n",
    "        totalListenCnt[g] += p\n",
    "        top2ListenTable[g].append((p,-i))\n",
    "        top2ListenTable[g].sort(reverse=True)\n",
    "        top2ListenTable[g] = top2ListenTable[g][:2]\n",
    "    genreSequence = sorted(totalListenCnt, key=lambda x: totalListenCnt[x], reverse=True)\n",
    "\n",
    "    for g in genreSequence:\n",
    "        answer.extend(map(lambda x: -x[1], top2ListenTable[g]))\n",
    "    return answer"
   ]
  }
 ],
 "metadata": {
  "language_info": {
   "name": "python"
  }
 },
 "nbformat": 4,
 "nbformat_minor": 2
}
