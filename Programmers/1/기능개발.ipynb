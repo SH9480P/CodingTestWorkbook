{
 "cells": [
  {
   "cell_type": "markdown",
   "metadata": {},
   "source": [
    "## 기능개발\n",
    "\n",
    "출처: https://school.programmers.co.kr/learn/courses/30/lessons/42586\n",
    "\n",
    "#### 새로 알게 된 점\n",
    "- 나누기 연산 시 결과값 올림하는 방법(피제수 x, 제수 y) (i.e. 7/3 -> 3, 9/3 -> 3)\n",
    "  - (x+y-1) // y\n",
    "  - -(-x // y)"
   ]
  },
  {
   "cell_type": "code",
   "execution_count": null,
   "metadata": {},
   "outputs": [],
   "source": [
    "def solution(progresses, speeds):\n",
    "    answer = []\n",
    "    size = len(progresses)\n",
    "    subMaxVal = 0\n",
    "    answerElement = 0\n",
    "    for i in range(size):\n",
    "        progress = progresses[i]\n",
    "        speed = speeds[i]\n",
    "        daysLeft = (100 - progress + speed - 1) // speed\n",
    "        if subMaxVal < daysLeft:\n",
    "            answer.append(answerElement)\n",
    "            subMaxVal = daysLeft\n",
    "            answerElement = 1\n",
    "        else:\n",
    "            answerElement += 1\n",
    "    answer.pop(0)\n",
    "    answer.append(answerElement)\n",
    "\n",
    "    return answer\n"
   ]
  }
 ],
 "metadata": {
  "language_info": {
   "name": "python"
  }
 },
 "nbformat": 4,
 "nbformat_minor": 2
}
