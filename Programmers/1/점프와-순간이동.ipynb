{
 "cells": [
  {
   "cell_type": "markdown",
   "metadata": {},
   "source": [
    "# 점프와 순간이동\n",
    "\n",
    "소요시간: 9분\n",
    "\n",
    "작성일시: 24.03.10 18:32:02\n",
    "\n",
    "출처: https://school.programmers.co.kr/learn/courses/30/lessons/12980\n",
    "\n",
    "### 접근 방법\n",
    "1st\n",
    "- 그리디하게 2로 나누는 횟수를 최대로 하도록 구현했다.\n",
    "\n",
    "2nd\n",
    "- 2진수 구하는 방법인 것이었던 것이었던 것이었다!!\n",
    "\n",
    "### 시간 복잡도 분석\n",
    "O(log(10억))\n",
    "\n",
    "### 새로 알게 된 것\n",
    ".\n",
    "\n",
    "### 주의할 점\n",
    ".\n",
    "\n",
    "### 기타 코멘트\n",
    ".\n"
   ]
  },
  {
   "cell_type": "code",
   "execution_count": null,
   "metadata": {},
   "outputs": [],
   "source": [
    "def solution(n):\n",
    "    ans = 0\n",
    "    while n > 0:\n",
    "        if n % 2 == 1:\n",
    "            n -= 1\n",
    "            ans += 1\n",
    "        n //= 2\n",
    "    return ans"
   ]
  },
  {
   "cell_type": "code",
   "execution_count": null,
   "metadata": {},
   "outputs": [],
   "source": [
    "def solution(n):\n",
    "    return str(bin(n)).count('1')"
   ]
  }
 ],
 "metadata": {
  "language_info": {
   "name": "python"
  }
 },
 "nbformat": 4,
 "nbformat_minor": 2
}
