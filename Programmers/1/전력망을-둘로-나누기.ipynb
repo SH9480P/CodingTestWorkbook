{
 "cells": [
  {
   "cell_type": "markdown",
   "metadata": {},
   "source": [
    "# 전력망을 둘로 나누기\n",
    "\n",
    "소요시간: 28분\n",
    "\n",
    "작성일시: 24.03.05 12:58:41\n",
    "\n",
    "출처: https://school.programmers.co.kr/learn/courses/30/lessons/86971\n",
    "\n",
    "### 접근 방법\n",
    "존재하는 모든 간선을 하나씩 끊어보고, bfs로 탐색을 진행하여 결과값을 비교한다.\n",
    "\n",
    "### 시간 복잡도 분석\n",
    "노드의 수 = N  \n",
    "시간복잡도 = O(N^2)\n",
    "\n",
    "### 새로 알게 된 것\n",
    ".\n",
    "\n",
    "### 주의할 점\n",
    "큐에 초기 노드를 넣은 다음, visited에 초기 노드를 방문한 것으로 표시하는 것을 잊지 말자.\n",
    "\n",
    "### 기타 코멘트\n",
    ".\n"
   ]
  },
  {
   "cell_type": "code",
   "execution_count": null,
   "metadata": {},
   "outputs": [],
   "source": [
    "from collections import deque\n",
    "\n",
    "def solution(n, wires):\n",
    "    def bfs():\n",
    "        visited = [False]*(n+1)\n",
    "        q = deque([1])\n",
    "        visited[1] = True\n",
    "        cnt = 0\n",
    "        while q:\n",
    "            cur = q.popleft()\n",
    "            cnt += 1\n",
    "            for i in range(1, n+1):\n",
    "                if graph[cur][i] and not visited[i]:\n",
    "                    visited[i] = True\n",
    "                    q.append(i)\n",
    "        return cnt\n",
    "    graph = [[False]*(n+1) for _ in range(n+1)]\n",
    "    for a, b in wires:\n",
    "        graph[a][b] = True\n",
    "        graph[b][a] = True\n",
    "    answer = n\n",
    "    for a, b in wires:\n",
    "        graph[a][b] = False\n",
    "        graph[b][a] = False\n",
    "        answer = min(answer, abs(2*bfs() - n))\n",
    "        graph[a][b] = True\n",
    "        graph[b][a] = True\n",
    "    return answer"
   ]
  }
 ],
 "metadata": {
  "language_info": {
   "name": "python"
  }
 },
 "nbformat": 4,
 "nbformat_minor": 2
}
