{
 "cells": [
  {
   "cell_type": "markdown",
   "metadata": {},
   "source": [
    "# 택배 배달과 수거\n",
    "\n",
    "소요시간: 60분\n",
    "\n",
    "작성일시: 24.03.27 14:50:39\n",
    "\n",
    "출처: https://school.programmers.co.kr/learn/courses/30/lessons/150369\n",
    "\n",
    "### 접근 방법\n",
    "- 그리디\n",
    "- 제일 먼 곳에서부터 배달 및 수거를 완료시킨다.\n",
    "\n",
    "### 시간 복잡도 분석\n",
    "O(N)\n",
    "\n",
    "### 새로 알게 된 것\n",
    ".\n",
    "\n",
    "### 주의할 점\n",
    "- 같은 변수를 공유하는 코드끼리는 순서가 영향을 미치지 않는지 확인하자.\n",
    "- 순서 때문에 30분 날렸다.\n",
    "\n",
    "### 기타 코멘트\n",
    ".\n"
   ]
  },
  {
   "cell_type": "code",
   "execution_count": null,
   "metadata": {},
   "outputs": [],
   "source": [
    "def solution(cap, n, deliveries, pickups):\n",
    "    d = []\n",
    "    p = []\n",
    "    for i in range(n):\n",
    "        delivery = deliveries[i]\n",
    "        pickup = pickups[i]\n",
    "        if delivery:\n",
    "            d.append((i, delivery))\n",
    "        if pickup:\n",
    "            p.append((i, pickup))\n",
    "\n",
    "    total = 0\n",
    "    while d or p:\n",
    "        dist = 0\n",
    "        if d:\n",
    "            dist = max(dist, d[-1][0])\n",
    "        if p:\n",
    "            dist = max(dist, p[-1][0])\n",
    "        total += (dist + 1) * 2\n",
    "\n",
    "        k = 0\n",
    "        while k < cap and d:\n",
    "            idx, num = d[-1]\n",
    "            d.pop()\n",
    "            if num + k <= cap:\n",
    "                k += num\n",
    "            else:\n",
    "                d.append((idx, num - cap + k))\n",
    "                k = cap\n",
    "        k = 0\n",
    "        while k < cap and p:\n",
    "            idx, num = p[-1]\n",
    "            p.pop()\n",
    "            if num + k <= cap:\n",
    "                k += num\n",
    "            else:\n",
    "                p.append((idx, num - cap + k))\n",
    "                k = cap\n",
    "    return total"
   ]
  }
 ],
 "metadata": {
  "language_info": {
   "name": "python"
  }
 },
 "nbformat": 4,
 "nbformat_minor": 2
}
