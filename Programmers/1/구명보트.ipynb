{
 "cells": [
  {
   "cell_type": "markdown",
   "metadata": {},
   "source": [
    "# 구명보트\n",
    "\n",
    "소요시간: 26분\n",
    "\n",
    "작성일시: 24.03.24 22:42:38\n",
    "\n",
    "출처: https://school.programmers.co.kr/learn/courses/30/lessons/42885\n",
    "\n",
    "### 접근 방법\n",
    "오름차순으로 정렬하고 맨 왼쪽, 맨 오른쪽부터 합했을 때 limit이 넘는지에 따라 cnt ++\n",
    "\n",
    "### 시간 복잡도 분석\n",
    "O(nlogn)\n",
    "\n",
    "### 새로 알게 된 것\n",
    ".\n",
    "\n",
    "### 주의할 점\n",
    ".\n",
    "\n",
    "### 기타 코멘트\n",
    ".\n"
   ]
  },
  {
   "cell_type": "code",
   "execution_count": null,
   "metadata": {},
   "outputs": [],
   "source": [
    "def solution(people, limit):\n",
    "    cnt = 0\n",
    "    people.sort()\n",
    "    n = len(people)\n",
    "    left, right = 0, n-1\n",
    "    while left <= right:\n",
    "        cnt += 1\n",
    "        if people[left] + people[right] <= limit:\n",
    "            left += 1\n",
    "            right -= 1\n",
    "        else:\n",
    "            right -= 1\n",
    "    return cnt"
   ]
  }
 ],
 "metadata": {
  "language_info": {
   "name": "python"
  }
 },
 "nbformat": 4,
 "nbformat_minor": 2
}
