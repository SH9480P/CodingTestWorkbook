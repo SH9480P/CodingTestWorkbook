{
 "cells": [
  {
   "cell_type": "markdown",
   "metadata": {},
   "source": [
    "# 개인정보 수집 유효기간\n",
    "\n",
    "소요시간: 28분\n",
    "\n",
    "작성일시: 24.03.27 15:24:44\n",
    "\n",
    "출처: https://school.programmers.co.kr/learn/courses/30/lessons/150370\n",
    "\n",
    "### 접근 방법\n",
    "- 그리디\n",
    "\n",
    "### 시간 복잡도 분석\n",
    ".\n",
    "\n",
    "### 새로 알게 된 것\n",
    ".\n",
    "\n",
    "### 주의할 점\n",
    ".\n",
    "\n",
    "### 기타 코멘트\n",
    ".\n"
   ]
  },
  {
   "cell_type": "code",
   "execution_count": null,
   "metadata": {},
   "outputs": [],
   "source": [
    "def get_date_string(year, month, day):\n",
    "    ys = str(year)\n",
    "    ms = str(month)\n",
    "    ds = str(day)\n",
    "    return f\"{ys}.{ms if len(ms) > 1 else '0'+ms}.{ds if len(ds) > 1 else '0'+ds}\"\n",
    "\n",
    "def parse_date_string(date_string):\n",
    "    year, month, day = map(int, date_string.split('.'))\n",
    "    return year, month, day\n",
    "\n",
    "def add_month(date_string, period):\n",
    "    year, month, day = parse_date_string(date_string)\n",
    "    year += (month + period - 1) // 12\n",
    "    month = (month + period - 1) % 12 + 1\n",
    "    return get_date_string(year, month, day)\n",
    "\n",
    "def solution(today, terms, privacies):\n",
    "    term = {}\n",
    "    for t in terms:\n",
    "        key, value = t.split()\n",
    "        term[key] = int(value)\n",
    "    answer = []\n",
    "    for i in range(len(privacies)):\n",
    "        p = privacies[i]\n",
    "        date_string, key = p.split()\n",
    "        invalid_from_now_on = add_month(date_string, term[key])\n",
    "        if today >= invalid_from_now_on:\n",
    "            answer.append(i+1)\n",
    "    return answer"
   ]
  }
 ],
 "metadata": {
  "language_info": {
   "name": "python"
  }
 },
 "nbformat": 4,
 "nbformat_minor": 2
}
