{
 "cells": [
  {
   "cell_type": "markdown",
   "metadata": {},
   "source": [
    "## 방문 길이\n",
    "\n",
    "출처: https://school.programmers.co.kr/learn/courses/30/lessons/49994\n",
    "\n",
    "명령어 길이 = n  \n",
    "시간복잡도 = O(n)\n",
    "\n",
    "방문 좌표가 아닌 방문 직선(좌표와 인접한 좌표 사이 길)을 나타내는 방법을 고민하는 문제.\n",
    "\n",
    "각 좌표마다 방향별 방문 여부 dictionary를 만들어 둠으로써 방문한 직선을 표시하는 방법이 있고, (1st)  \n",
    "출발 좌표와 도착 좌표를 tuple로 만들어 set으로 관리하는 방법이 있음. (2nd)"
   ]
  },
  {
   "cell_type": "code",
   "execution_count": null,
   "metadata": {},
   "outputs": [],
   "source": [
    "directions = {\n",
    "    'U': (-1, 0),\n",
    "    'D': (1, 0),\n",
    "    'L': (0, -1),\n",
    "    'R': (0, 1)\n",
    "}\n",
    "dArr = ['U', 'L', 'D', 'R']\n",
    "\n",
    "def isGridOut(x, y, d):\n",
    "    dx, dy = directions[d]\n",
    "    nx = x + dx\n",
    "    ny = y + dy\n",
    "    return nx < 0 or ny < 0 or nx >= 11 or ny >= 11\n",
    "\n",
    "def solution(dirs):\n",
    "    visited = []\n",
    "    for i in range(11):\n",
    "        visited.append([])\n",
    "        for j in range(11):\n",
    "            visited[-1].append({'U': False, 'D': False, 'R': False, 'L': False})\n",
    "\n",
    "    result = 0\n",
    "    curPos = (5, 5)\n",
    "    for d in dirs:\n",
    "        cx, cy = curPos\n",
    "        if isGridOut(cx, cy, d):\n",
    "            continue\n",
    "        dx, dy = directions[d]\n",
    "        opposite = dArr[(dArr.index(d) + 2) % 4]\n",
    "        nx = cx + dx\n",
    "        ny = cy + dy\n",
    "        if not visited[nx][ny][d]:\n",
    "            result += 1\n",
    "        visited[nx][ny][d] = True\n",
    "        visited[cx][cy][opposite] = True\n",
    "        curPos = (nx, ny)\n",
    "    return result"
   ]
  },
  {
   "cell_type": "code",
   "execution_count": null,
   "metadata": {},
   "outputs": [],
   "source": [
    "directions = {\n",
    "    'U': (-1, 0),\n",
    "    'D': (1, 0),\n",
    "    'L': (0, -1),\n",
    "    'R': (0, 1)\n",
    "}\n",
    "\n",
    "def isGridOut(x, y, d):\n",
    "    dx, dy = directions[d]\n",
    "    nx = x + dx\n",
    "    ny = y + dy\n",
    "    return nx < 0 or ny < 0 or nx >= 11 or ny >= 11\n",
    "\n",
    "def solution(dirs):\n",
    "    visited = set()\n",
    "    curPos = (5, 5)\n",
    "    for d in dirs:\n",
    "        cx, cy = curPos\n",
    "        if isGridOut(cx, cy, d):\n",
    "            continue\n",
    "        dx, dy = directions[d]\n",
    "        nx = dx + cx\n",
    "        ny = dy + cy\n",
    "        visited.add((cx, cy, nx, ny))\n",
    "        visited.add((nx, ny, cx, cy))\n",
    "        curPos = (nx, ny)\n",
    "    return len(visited) // 2"
   ]
  }
 ],
 "metadata": {
  "language_info": {
   "name": "python"
  }
 },
 "nbformat": 4,
 "nbformat_minor": 2
}
