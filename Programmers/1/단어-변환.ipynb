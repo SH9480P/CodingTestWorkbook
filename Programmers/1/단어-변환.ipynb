{
 "cells": [
  {
   "cell_type": "markdown",
   "metadata": {},
   "source": [
    "# 단어 변환\n",
    "\n",
    "소요시간: 30분\n",
    "\n",
    "작성일시: 24.06.02 21:50:58\n",
    "\n",
    "출처: https://school.programmers.co.kr/learn/courses/30/lessons/43163\n",
    "\n",
    "### 접근 방법\n",
    "각 단어를 그래프의 노드로 하고, 목표 노드까지의 최단 거리를 구하는 문제로 바꾸면 bfs 탐색 문제가 된다.\n",
    "\n",
    "### 시간 복잡도 분석\n",
    "O(n)\n",
    "\n",
    "### 새로 알게 된 것\n",
    ".\n",
    "\n",
    "### 주의할 점\n",
    ".ㄴ\n",
    "\n",
    "### 기타 코멘트\n",
    ".\n"
   ]
  },
  {
   "cell_type": "code",
   "execution_count": null,
   "metadata": {},
   "outputs": [],
   "source": [
    "from collections import deque\n",
    "\n",
    "def isConvertable(word1, word2):\n",
    "    n = len(word1)\n",
    "    diff = 0\n",
    "    for i in range(n):\n",
    "        if word1[i] != word2[i]:\n",
    "            diff += 1\n",
    "    return True if diff == 1 else False\n",
    "\n",
    "def solution(begin, target, words):\n",
    "    q = deque([(begin, 0)])\n",
    "    visited = [False] * len(words)\n",
    "    while q:\n",
    "        cur, moves = q.popleft()\n",
    "        if cur == target:\n",
    "            return moves\n",
    "        for i in range(len(words)):\n",
    "            word = words[i]\n",
    "            if not visited[i] and isConvertable(cur, word):\n",
    "                q.append((word, moves + 1))\n",
    "                visited[i] = True\n",
    "    return 0"
   ]
  }
 ],
 "metadata": {
  "language_info": {
   "name": "python"
  }
 },
 "nbformat": 4,
 "nbformat_minor": 2
}
