{
 "cells": [
  {
   "cell_type": "markdown",
   "metadata": {},
   "source": [
    "## 영어 끝말잇기\n",
    "\n",
    "출처: https://school.programmers.co.kr/learn/courses/30/lessons/12981\n",
    "\n"
   ]
  },
  {
   "cell_type": "code",
   "execution_count": null,
   "metadata": {},
   "outputs": [],
   "source": [
    "def solution(n, words):\n",
    "    answer = [0, 0]\n",
    "    said = {}\n",
    "    prev = words[0][0]\n",
    "    for i in range(len(words)):\n",
    "        word = words[i]\n",
    "        if word in said or word[0] != prev[-1]:\n",
    "            answer = [i % n + 1, i // n + 1]\n",
    "            break\n",
    "        said[word] = True\n",
    "        prev = word\n",
    "    return answer"
   ]
  }
 ],
 "metadata": {
  "language_info": {
   "name": "python"
  }
 },
 "nbformat": 4,
 "nbformat_minor": 2
}
