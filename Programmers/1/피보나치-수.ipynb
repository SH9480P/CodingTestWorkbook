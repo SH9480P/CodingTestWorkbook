{
 "cells": [
  {
   "cell_type": "markdown",
   "metadata": {},
   "source": [
    "# 피보나치 수\n",
    "\n",
    "소요시간: 5분\n",
    "\n",
    "작성일시: 24.03.22 21:20:53\n",
    "\n",
    "출처: https://school.programmers.co.kr/learn/courses/30/lessons/12945\n",
    "\n",
    "### 접근 방법\n",
    "메모이제이션\n",
    "\n",
    "### 시간 복잡도 분석\n",
    "O(n)\n",
    "\n",
    "### 새로 알게 된 것\n",
    "모듈러 연산  \n",
    "(a + b) % c == ((a % c) + (b % c)) % c\n",
    "\n",
    "### 주의할 점\n",
    ".\n",
    "\n",
    "### 기타 코멘트\n",
    ".\n"
   ]
  },
  {
   "cell_type": "code",
   "execution_count": null,
   "metadata": {},
   "outputs": [],
   "source": [
    "def solution(n):\n",
    "    dp = [0, 1]\n",
    "    for i in range(2, n+1):\n",
    "        dp.append((dp[i-1] + dp[i-2])%1234567)\n",
    "    return dp[-1] % 1234567"
   ]
  }
 ],
 "metadata": {
  "language_info": {
   "name": "python"
  }
 },
 "nbformat": 4,
 "nbformat_minor": 2
}
