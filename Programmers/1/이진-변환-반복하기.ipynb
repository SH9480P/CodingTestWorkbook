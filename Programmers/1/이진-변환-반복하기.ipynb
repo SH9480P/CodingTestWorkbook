{
 "cells": [
  {
   "cell_type": "markdown",
   "metadata": {},
   "source": [
    "# 이진 변환 반복하기\n",
    "\n",
    "소요시간: 12분\n",
    "\n",
    "작성일시: 24.03.10 17:26:42\n",
    "\n",
    "출처: https://school.programmers.co.kr/learn/courses/30/lessons/70129\n",
    "\n",
    "### 접근 방법\n",
    "1. 1 개수 반환하고 0 개수 증가시키기\n",
    "2. 위에서 구한 1 개수를 2진수로 변환하기\n",
    "3. 위에서 구한 2진수를 문자열로 만들기\n",
    "4. 위의 과정을 반복하면서 반복 횟수 1씩 증가시키기\n",
    "5. s가 \"1\"이면 반복문 종료\n",
    "\n",
    "### 시간 복잡도 분석\n",
    "??\n",
    "\n",
    "### 새로 알게 된 것\n",
    ".\n",
    "\n",
    "### 주의할 점\n",
    ".\n",
    "\n",
    "### 기타 코멘트\n",
    ".\n"
   ]
  },
  {
   "cell_type": "code",
   "execution_count": null,
   "metadata": {},
   "outputs": [],
   "source": [
    "def solution(s):\n",
    "    opNum = 0\n",
    "    deletedZeroNum = 0\n",
    "\n",
    "    while s != '1':\n",
    "        oneNum = s.count('1')\n",
    "        deletedZeroNum += len(s) - oneNum\n",
    "\n",
    "        s = str(bin(oneNum))[2:]\n",
    "        opNum += 1\n",
    "\n",
    "    return [opNum, deletedZeroNum]"
   ]
  }
 ],
 "metadata": {
  "language_info": {
   "name": "python"
  }
 },
 "nbformat": 4,
 "nbformat_minor": 2
}
