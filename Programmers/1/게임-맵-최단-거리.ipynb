{
 "cells": [
  {
   "cell_type": "markdown",
   "metadata": {},
   "source": [
    "# 게임 맵 최단 거리\n",
    "\n",
    "소요시간: 12분\n",
    "\n",
    "작성일시: 24.03.04 21:10:29\n",
    "\n",
    "출처: https://school.programmers.co.kr/learn/courses/30/lessons/1844\n",
    "\n",
    "### 접근 방법\n",
    "bfs\n",
    "\n",
    "### 시간 복잡도 분석\n",
    "가로 길이 = n  \n",
    "세로 길이 = m  \n",
    "시간복잡도 = O(n*m)\n",
    "\n",
    "### 새로 알게 된 것\n",
    ".\n",
    "\n",
    "### 주의할 점\n",
    "방향 선택 시 미로 밖으로 나가는지 체크 필수\n",
    "\n",
    "### 기타 코멘트\n",
    ".\n"
   ]
  },
  {
   "cell_type": "code",
   "execution_count": null,
   "metadata": {},
   "outputs": [],
   "source": [
    "from collections import deque\n",
    "\n",
    "def solution(maps):\n",
    "    def isGridIn(r, c):\n",
    "        return 0 <= r < n and 0 <= c < m\n",
    "    WALL = 0\n",
    "    UDLR = [(-1, 0), (1, 0), (0, -1), (0, 1)]\n",
    "    answer = -1\n",
    "    n = len(maps)\n",
    "    m = len(maps[0])\n",
    "    visited = [[False] * m for _ in range(n)]\n",
    "    q = deque([(0, 0, 1)])\n",
    "\n",
    "    while q:\n",
    "        row, col, dist = q.popleft()\n",
    "        if row == n-1 and col == m-1:\n",
    "            answer = dist\n",
    "            break\n",
    "        for dr, dc in UDLR:\n",
    "            nr, nc = row + dr, col + dc\n",
    "            if isGridIn(nr, nc) and maps[nr][nc] != WALL and not visited[nr][nc]:\n",
    "                q.append((nr, nc, dist+1))\n",
    "                visited[nr][nc] = True\n",
    "\n",
    "    return answer"
   ]
  }
 ],
 "metadata": {
  "language_info": {
   "name": "python"
  }
 },
 "nbformat": 4,
 "nbformat_minor": 2
}
