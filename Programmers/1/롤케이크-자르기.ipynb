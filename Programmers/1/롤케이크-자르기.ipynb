{
 "cells": [
  {
   "cell_type": "markdown",
   "metadata": {},
   "source": [
    "# 롤케이크 자르기\n",
    "\n",
    "소요시간: 21분\n",
    "\n",
    "작성일시: 24.03.10 17:53:17\n",
    "\n",
    "출처: https://school.programmers.co.kr/learn/courses/30/lessons/132265\n",
    "\n",
    "### 접근 방법\n",
    "처음에는 내 토핑과 동생의 토핑을 순차적으로 나누어가며 set으로 토핑의 가짓수를 비교하려고 했다.  \n",
    "그러나 set을 만드는 과정의 시간 복잡도가 선형적일 것으로 판단, 총 시간 복잡도가 제곱이 되면 토핑의 길이인 1,000,000의 제곱이 되기 때문에 시간 초과가 날 것 같았다.  \n",
    "그래서 토핑을 나눌 때 매번 set을 만들지 않고, 추가된 토핑 하나씩만 서로 가지고 지우는 방식을 통해 토핑의 가짓수를 구하는 과정의 시간 복잡도를 상수로 만들었다.\n",
    "\n",
    "### 시간 복잡도 분석\n",
    "토핑 수 = n  \n",
    "시간복잡도 = O(n)\n",
    "\n",
    "### 새로 알게 된 것\n",
    ".\n",
    "\n",
    "### 주의할 점\n",
    ".\n",
    "\n",
    "### 기타 코멘트\n",
    "내 토핑 관리를 defaultdict로 했는데, set을 사용하는 것이 더 깔끔해보인다.  \n",
    "동생은 counter로 관리하는 것이 맞다.\n"
   ]
  },
  {
   "cell_type": "code",
   "execution_count": null,
   "metadata": {},
   "outputs": [],
   "source": [
    "from collections import defaultdict, Counter\n",
    "\n",
    "def solution(topping):\n",
    "    result = 0\n",
    "    myDict = defaultdict(int)\n",
    "    broDict = Counter(topping)\n",
    "    for t in topping:\n",
    "        myDict[t] += 1\n",
    "        broDict[t] -= 1\n",
    "        if broDict[t] == 0:\n",
    "            del broDict[t]\n",
    "        if len(myDict) == len(broDict):\n",
    "            result += 1\n",
    "    return result"
   ]
  }
 ],
 "metadata": {
  "language_info": {
   "name": "python"
  }
 },
 "nbformat": 4,
 "nbformat_minor": 2
}
