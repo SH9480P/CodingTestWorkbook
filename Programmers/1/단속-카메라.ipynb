{
 "cells": [
  {
   "cell_type": "markdown",
   "metadata": {},
   "source": [
    "# 단속 카메라\n",
    "\n",
    "소요시간: 30분\n",
    "\n",
    "작성일시: 24.06.04 21:16:36\n",
    "\n",
    "출처: https://school.programmers.co.kr/learn/courses/30/lessons/42884\n",
    "\n",
    "### 접근 방법\n",
    "차량 별 진출입 구간 리스트(routes)를 끝점을 기준으로 오름차순으로 정렬시키면 그리디하게 해결할 수 있다.\n",
    "\n",
    "가능한 경우를 그림으로 그려보면, 카메라는 끝점에 설치하면 되고, 제일 뒤에 설치한 카메라가 그 다음 구간을 처리할 수 있으면 pass, 구간이 맞지 않으면 카메라를 그 구간의 끝점에 설치한다.\n",
    "\n",
    "설치한 개수를 반환한다.\n",
    "\n",
    "### 시간 복잡도 분석\n",
    "O(nlogn)\n",
    "\n",
    "### 새로 알게 된 것\n",
    ".\n",
    "\n",
    "### 주의할 점\n",
    ".\n",
    "\n",
    "### 기타 코멘트\n",
    ".\n"
   ]
  },
  {
   "cell_type": "code",
   "execution_count": null,
   "metadata": {},
   "outputs": [],
   "source": [
    "def solution(routes):\n",
    "    answer = 1\n",
    "    routes.sort(key=lambda x:x[1])\n",
    "    last_camera = routes[0][1]\n",
    "    for a, b in routes:\n",
    "        if a <= last_camera <= b:\n",
    "            continue\n",
    "        last_camera = b\n",
    "        answer += 1\n",
    "    return answer"
   ]
  }
 ],
 "metadata": {
  "language_info": {
   "name": "python"
  }
 },
 "nbformat": 4,
 "nbformat_minor": 2
}
