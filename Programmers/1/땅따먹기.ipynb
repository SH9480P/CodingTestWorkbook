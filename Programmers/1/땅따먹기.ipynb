{
 "cells": [
  {
   "cell_type": "markdown",
   "metadata": {},
   "source": [
    "# 땅따먹기\n",
    "\n",
    "소요시간: 8분\n",
    "\n",
    "작성일시: 24.03.22 22:47:40\n",
    "\n",
    "출처: https://school.programmers.co.kr/learn/courses/30/lessons/12913\n",
    "\n",
    "### 접근 방법\n",
    "dp\n",
    "\n",
    "### 시간 복잡도 분석\n",
    "O(16N)\n",
    "\n",
    "### 새로 알게 된 것\n",
    ".\n",
    "\n",
    "### 주의할 점\n",
    ".\n",
    "\n",
    "### 기타 코멘트\n",
    ".\n"
   ]
  },
  {
   "cell_type": "code",
   "execution_count": null,
   "metadata": {},
   "outputs": [],
   "source": [
    "def solution(land):\n",
    "    n = len(land)\n",
    "    dp = [[0]*4 for _ in range(n)]\n",
    "    dp[0] = land[0]\n",
    "    for i in range(1, n):\n",
    "        for j in range(4):\n",
    "            for k in set(range(4))-{j}:\n",
    "                dp[i][j] = max(dp[i][j], dp[i-1][k])\n",
    "            dp[i][j] += land[i][j]\n",
    "    return max(dp[-1])"
   ]
  }
 ],
 "metadata": {
  "language_info": {
   "name": "python"
  }
 },
 "nbformat": 4,
 "nbformat_minor": 2
}
