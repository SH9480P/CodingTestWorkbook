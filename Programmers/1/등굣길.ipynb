{
 "cells": [
  {
   "cell_type": "markdown",
   "metadata": {},
   "source": [
    "# 등굣길\n",
    "\n",
    "소요시간: 60분\n",
    "\n",
    "작성일시: 24.06.13 13:48:29\n",
    "\n",
    "출처: https://school.programmers.co.kr/learn/courses/30/lessons/42898\n",
    "\n",
    "### 접근 방법\n",
    "오른쪽과 아래로만 갈 수 있으므로, 왼쪽과 위의 칸에 도달할 수 있는 경우의 수를 더하면 현재 칸에 도달 가능한 경우의 수를 산출할 수 있다.\n",
    "\n",
    "### 시간 복잡도 분석\n",
    "O(NM)\n",
    "\n",
    "### 새로 알게 된 것\n",
    ".\n",
    "\n",
    "### 주의할 점\n",
    ".\n",
    "\n",
    "### 기타 코멘트\n",
    ".\n"
   ]
  },
  {
   "cell_type": "code",
   "execution_count": null,
   "metadata": {},
   "outputs": [],
   "source": [
    "def solution(m, n, puddles):\n",
    "    denom = 1000000007\n",
    "    dp = [[0]*(n+1) for _ in range(m+1)]\n",
    "    dp[1][1] = 1\n",
    "    puddle_set = set(map(tuple, puddles))\n",
    "    for diag in range(3, m+n+1):\n",
    "        i = min(m, diag-1)\n",
    "        j = diag - i\n",
    "        while j <= n and i > 0:\n",
    "            if (i, j) not in puddle_set:\n",
    "                dp[i][j] = (dp[i-1][j] % denom + dp[i][j-1] % denom) % denom\n",
    "            i -= 1\n",
    "            j += 1\n",
    "    return dp[-1][-1]"
   ]
  }
 ],
 "metadata": {
  "language_info": {
   "name": "python"
  }
 },
 "nbformat": 4,
 "nbformat_minor": 2
}
