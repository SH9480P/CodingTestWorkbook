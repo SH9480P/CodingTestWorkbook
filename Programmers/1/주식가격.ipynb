{
 "cells": [
  {
   "cell_type": "markdown",
   "metadata": {},
   "source": [
    "## 주식가격\n",
    "\n",
    "출처: https://school.programmers.co.kr/learn/courses/30/lessons/42584\n",
    "\n",
    "배열 길이 = n\n",
    "시간복잡도 = O(n)\n",
    "\n",
    "nested loop으로 푸는 방법이 제일 생각하기 쉬운 방법.\n",
    "\n",
    "가격이 떨어지는 순간부터 그 앞의 모든, 가격이 현재의 것보다 큰, 원소들의 기간이 정해진다는 점에서 스택을 사용하여 풀 수 있다."
   ]
  },
  {
   "cell_type": "code",
   "execution_count": null,
   "metadata": {},
   "outputs": [],
   "source": [
    "def solution(prices):\n",
    "    n = len(prices)\n",
    "    answer = [0] * n\n",
    "    stack = []\n",
    "    for i, p in enumerate(prices):\n",
    "        while stack and stack[-1][1] > p:\n",
    "            idx, price = stack.pop()\n",
    "            answer[idx] = i - idx\n",
    "        stack.append((i, p))\n",
    "    for i, p in stack:\n",
    "        answer[i] = n - 1 - i\n",
    "    return answer"
   ]
  }
 ],
 "metadata": {
  "language_info": {
   "name": "python"
  }
 },
 "nbformat": 4,
 "nbformat_minor": 2
}
