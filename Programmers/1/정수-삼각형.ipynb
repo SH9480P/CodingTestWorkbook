{
 "cells": [
  {
   "cell_type": "markdown",
   "metadata": {},
   "source": [
    "# 정수 삼각형\n",
    "\n",
    "소요시간: 10분\n",
    "\n",
    "작성일시: 24.03.22 22:26:52\n",
    "\n",
    "출처: https://school.programmers.co.kr/learn/courses/30/lessons/43105\n",
    "\n",
    "### 접근 방법\n",
    "dp\n",
    "\n",
    "2nd\n",
    "- 아래에서 위로 올라오면서 계산하면 편함.\n",
    "\n",
    "### 시간 복잡도 분석\n",
    "O(n^2)  \n",
    "1+2+3+...+n = n(N+1)/2\n",
    "\n",
    "### 새로 알게 된 것\n",
    ".\n",
    "\n",
    "### 주의할 점\n",
    ".\n",
    "\n",
    "### 기타 코멘트\n",
    ".\n"
   ]
  },
  {
   "cell_type": "code",
   "execution_count": null,
   "metadata": {},
   "outputs": [],
   "source": [
    "def solution(triangle):\n",
    "    height = len(triangle)\n",
    "    dp = [[0]*i for i in range(1, height+1)]\n",
    "    dp[0][0] = triangle[0][0]\n",
    "    for i in range(1, height):\n",
    "        for j in range(i+1):\n",
    "            if j == 0:\n",
    "                dp[i][j] = triangle[i][j] + dp[i-1][0]\n",
    "            elif j == i:\n",
    "                dp[i][j] = triangle[i][j] + dp[i-1][-1]\n",
    "            else:\n",
    "                dp[i][j] = max(dp[i-1][j-1], dp[i-1][j]) + triangle[i][j]\n",
    "    return max(dp[-1])"
   ]
  },
  {
   "cell_type": "code",
   "execution_count": null,
   "metadata": {},
   "outputs": [],
   "source": [
    "def solution(triangle):\n",
    "    height = len(triangle)\n",
    "    dp = [[0]*i for i in range(1, height+1)]\n",
    "    for i in range(height):\n",
    "        dp[-1][i] = triangle[-1][i]\n",
    "    for i in range(height-2, -1, -1):\n",
    "        for j in range(i+1):\n",
    "            dp[i][j] = triangle[i][j] + max(dp[i+1][j], dp[i+1][j+1])\n",
    "    return dp[0][0]"
   ]
  }
 ],
 "metadata": {
  "language_info": {
   "name": "python"
  }
 },
 "nbformat": 4,
 "nbformat_minor": 2
}
