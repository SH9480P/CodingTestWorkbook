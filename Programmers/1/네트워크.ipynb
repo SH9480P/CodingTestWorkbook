{
 "cells": [
  {
   "cell_type": "markdown",
   "metadata": {},
   "source": [
    "# 네트워크\n",
    "\n",
    "소요시간: 22분\n",
    "\n",
    "작성일시: 24.03.04 21:36:36\n",
    "\n",
    "출처: https://school.programmers.co.kr/learn/courses/30/lessons/43162\n",
    "\n",
    "### 접근 방법\n",
    "dfs\n",
    "\n",
    "### 시간 복잡도 분석\n",
    "컴퓨터 개수 = n  \n",
    "시간복잡도 = O(N^2)\n",
    "\n",
    "### 새로 알게 된 것\n",
    ".\n",
    "\n",
    "### 주의할 점\n",
    ".\n",
    "\n",
    "### 기타 코멘트\n",
    "1st answer는 dfs를, 2nd는 find-union algorithm을 사용하여 푼 것이다.\n"
   ]
  },
  {
   "cell_type": "code",
   "execution_count": null,
   "metadata": {},
   "outputs": [],
   "source": [
    "def solution(n, computers):\n",
    "    def dfs(n, computers, visited, c):\n",
    "        visited[c] = True\n",
    "        for j in range(n):\n",
    "            if computers[c][j] == 1 and not visited[j] and j != c:\n",
    "                dfs(n, computers, visited, j)\n",
    "\n",
    "    answer = 0\n",
    "    visited = [False] * n\n",
    "\n",
    "    for j in range(n):\n",
    "        if not visited[j]:\n",
    "            dfs(n, computers, visited, j)\n",
    "            answer += 1\n",
    "\n",
    "    return answer"
   ]
  },
  {
   "cell_type": "code",
   "execution_count": null,
   "metadata": {},
   "outputs": [],
   "source": [
    "def solution(n, computers):\n",
    "    def find_parent(parent, x):\n",
    "        if x != parent[x]:\n",
    "            parent[x] = find_parent(parent, parent[x])\n",
    "        return parent[x]\n",
    "    def union_parent(parent, a, b):\n",
    "        a = find_parent(parent, a)\n",
    "        b = find_parent(parent, b)\n",
    "        if a < b:\n",
    "            parent[b] = a\n",
    "        else:\n",
    "            parent[a] = b\n",
    "\n",
    "    parent = list(range(n))\n",
    "    for i in range(n):\n",
    "        for j in range(n):\n",
    "            if i < j:\n",
    "                if computers[i][j]:\n",
    "                    union_parent(parent, i, j)\n",
    "\n",
    "    for i in range(n):\n",
    "        find_parent(parent, i)\n",
    "    return len(set(parent))"
   ]
  }
 ],
 "metadata": {
  "language_info": {
   "name": "python"
  }
 },
 "nbformat": 4,
 "nbformat_minor": 2
}
