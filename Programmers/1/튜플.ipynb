{
 "cells": [
  {
   "cell_type": "markdown",
   "metadata": {},
   "source": [
    "# 튜플\n",
    "\n",
    "소요시간: 19분\n",
    "\n",
    "작성일시: 24.03.09 15:06:10\n",
    "\n",
    "출처: https://school.programmers.co.kr/learn/courses/30/lessons/64065?language=python3\n",
    "\n",
    "### 접근 방법\n",
    "중복되는 원소가 없는 튜플에 대해, 왼쪽부터 길이가 1, 2, ..., n개가 되도록 집합을 n개 만들어 입력값으로 제공한다.\n",
    "\n",
    "각 집합은 내부 원소들이 나열된 순서가 달라도 구성 원소가 동일하면 같은 집합이기 때문에 원소의 순서는 무작위로 제공된다.\n",
    "\n",
    "입력 문자열에서 n개의 집합을 추출하고, 길이가 짧은 순으로 정렬하여 대상 튜플을 만들어 나가야 한다.\n",
    "\n",
    "### 시간 복잡도 분석\n",
    "튜플 길이 = n (1~500)  \n",
    "입력값의 길이 = s (5~1000000)  \n",
    "입력값 split하기 = 최대 2s\n",
    "정렬 = nlogn  \n",
    "차집합 구해서 튜플 원소 하나씩 추가하는 부분 = n(n-1)/2  \n",
    "시간복잡도 = O(s)  \n",
    "\n",
    "### 새로 알게 된 것\n",
    "- iterable의 원소를 iterator로 하나씩 꺼내는 방법\n",
    "  - iter()로 iterable을 iterator로 만들고, next()로 하나씩 꺼낼 수 있다\n",
    "  - 2nd solution에 적용하였음\n",
    "\n",
    "### 주의할 점\n",
    ".\n",
    "\n",
    "### 기타 코멘트\n",
    ".\n"
   ]
  },
  {
   "cell_type": "code",
   "execution_count": null,
   "metadata": {},
   "outputs": [],
   "source": [
    "def solution(s):\n",
    "    set_list = []\n",
    "    for sub_str in s[2:-2].split('},{'):\n",
    "        set_list.append(set(map(int, sub_str.split(','))))\n",
    "    set_list.sort(key=lambda x: len(x))\n",
    "    prev_set = set()\n",
    "    answer = []\n",
    "    for set_each in set_list:\n",
    "        for next_item in set_each - prev_set:\n",
    "            answer.append(next_item)\n",
    "        prev_set = set_each\n",
    "    return answer"
   ]
  },
  {
   "cell_type": "code",
   "execution_count": null,
   "metadata": {},
   "outputs": [],
   "source": [
    "def solution(s):\n",
    "    set_list = []\n",
    "    for sub_str in s[2:-2].split('},{'):\n",
    "        set_list.append(set(map(int, sub_str.split(','))))\n",
    "    set_list.sort(key=lambda x: len(x))\n",
    "    prev_set = set()\n",
    "    answer = []\n",
    "    for set_each in set_list:\n",
    "        answer.append(next(iter(set_each - prev_set)))\n",
    "        prev_set = set_each\n",
    "    return answer"
   ]
  }
 ],
 "metadata": {
  "language_info": {
   "name": "python"
  }
 },
 "nbformat": 4,
 "nbformat_minor": 2
}
