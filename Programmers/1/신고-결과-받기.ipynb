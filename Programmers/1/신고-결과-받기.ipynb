{
 "cells": [
  {
   "cell_type": "markdown",
   "metadata": {},
   "source": [
    "## 신고 결과 받기\n",
    "\n",
    "출처: https://school.programmers.co.kr/learn/courses/30/lessons/92334\n",
    "\n",
    "신고 건수 = n\n",
    "시간복잡도 = O(n)\n",
    "\n",
    "\n",
    "### 접근 방향\n",
    "- 피신고자의 신고 횟수를 알아야 하며, 신고 횟수가 기준 이상인 경우의 신고자를 알아야 한다.\n",
    "- 피신고자를 key로 하고, value에는 신고자를 나열하는 방식을 사용하면 위 조건을 만족할 수 있다.\n",
    "  - 신고 횟수: value의 길이\n",
    "  - 신고자 정보: value에 포함됨\n",
    "- 동일한 유저에 대한 신고 횟수는 1회로 처리되기에, 특정 피신고자에 대한 신고자 객체는 집합으로 처리하자.\n",
    "- 신고 횟수가 기준 이상인 경우, 신고자의 총 등장 횟수를 알아야 하기에 dict로 신고자 등장 횟수를 세자.\n",
    "\n",
    "\n",
    "### 새로 알게 된 점\n",
    "- set에 len() 사용 가능함\n",
    "- set에 for문 사용 가능함\n",
    "- dict.get(key)으로 값 가져올 수 있고, dict.get(key, default)로 key가 없을 때 반환할 기본값을 지정할 수 있음"
   ]
  },
  {
   "cell_type": "code",
   "execution_count": null,
   "metadata": {},
   "outputs": [],
   "source": [
    "from collections import defaultdict\n",
    "\n",
    "def solution(id_list, report, k):\n",
    "    reportDict = defaultdict(set)\n",
    "    mailDict = defaultdict(int)\n",
    "\n",
    "    for r in report:\n",
    "        reporter, reportee = r.split()\n",
    "        reportDict[reportee].add(reporter)\n",
    "\n",
    "    for reportee in reportDict:\n",
    "        reporterSet = reportDict[reportee]\n",
    "        if len(reporterSet) >= k:\n",
    "            for reporter in reporterSet:\n",
    "                mailDict[reporter] += 1\n",
    "    \n",
    "    return list(map(lambda x: mailDict[x], id_list))"
   ]
  }
 ],
 "metadata": {
  "language_info": {
   "name": "python"
  }
 },
 "nbformat": 4,
 "nbformat_minor": 2
}
