{
 "cells": [
  {
   "cell_type": "markdown",
   "metadata": {},
   "source": [
    "# 섬 연결하기\n",
    "\n",
    "출처: https://school.programmers.co.kr/learn/courses/30/lessons/42861\n",
    "\n",
    "### 접근 방법\n",
    "- 크루스칼 알고리즘\n",
    "\n",
    "### 시간 복잡도 분석\n",
    "\n",
    "\n",
    "### 새로 알게 된 것\n",
    "\n",
    "\n",
    "### 주의할 점\n",
    "\n",
    "\n",
    "### 기타 코멘트\n",
    "\n"
   ]
  },
  {
   "cell_type": "code",
   "execution_count": null,
   "metadata": {},
   "outputs": [],
   "source": [
    "def solution(n, costs):\n",
    "    def find_parent(parent, x):\n",
    "        if x != parent[x]:\n",
    "            parent[x] = find_parent(parent, parent[x])\n",
    "        return parent[x]\n",
    "\n",
    "    def union_parent(parent, a, b):\n",
    "        a = find_parent(parent, a)\n",
    "        b = find_parent(parent, b)\n",
    "        if a < b:\n",
    "            parent[b] = a\n",
    "        else:\n",
    "            parent[a] = b\n",
    "\n",
    "    answer = 0\n",
    "    parent = list(range(n+1))\n",
    "    costs = list(map(lambda x: (x[2], x[0], x[1]), costs))\n",
    "    costs.sort(key=lambda x: x[0])\n",
    "    connect = 0\n",
    "\n",
    "    for cost, a, b in costs:\n",
    "        if find_parent(parent, a) != find_parent(parent, b):\n",
    "            answer += cost\n",
    "            connect += 1\n",
    "            if connect == n-1:\n",
    "                break\n",
    "            union_parent(parent, a, b)\n",
    "    return answer\n"
   ]
  }
 ],
 "metadata": {
  "language_info": {
   "name": "python"
  }
 },
 "nbformat": 4,
 "nbformat_minor": 2
}
