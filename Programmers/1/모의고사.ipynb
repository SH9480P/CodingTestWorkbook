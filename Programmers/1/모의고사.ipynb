{
 "cells": [
  {
   "cell_type": "markdown",
   "metadata": {},
   "source": [
    "## 모의고사\n",
    "\n",
    "출처: https://school.programmers.co.kr/learn/courses/30/lessons/42840\n",
    "\n",
    "문제 수 = n\n",
    "시간복잡도 = O(n)"
   ]
  },
  {
   "cell_type": "code",
   "execution_count": null,
   "metadata": {},
   "outputs": [],
   "source": [
    "first = [1,2,3,4,5] * 8\n",
    "second = [2,1,2,3,2,4,2,5] * 5\n",
    "third = [3,3,1,1,2,2,4,4,5,5] * 4\n",
    "\n",
    "soopozas = [first, second, third]\n",
    "\n",
    "def solution(answers):\n",
    "    num = len(answers)\n",
    "    score = [0, 0, 0]\n",
    "    for i in range(num):\n",
    "        for j in range(3):\n",
    "            answerIdx = i % 40\n",
    "            if soopozas[j][answerIdx] == answers[i]:\n",
    "                score[j] += 1\n",
    "    maxScore = 0\n",
    "    result = []\n",
    "    for i in range(3):\n",
    "        if maxScore < score[i]:\n",
    "            result = [i+1]\n",
    "            maxScore = score[i]\n",
    "        elif maxScore == score[i]:\n",
    "            result.append(i+1)\n",
    "    return result"
   ]
  }
 ],
 "metadata": {
  "language_info": {
   "name": "python"
  }
 },
 "nbformat": 4,
 "nbformat_minor": 2
}
