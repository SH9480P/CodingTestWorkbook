{
 "cells": [
  {
   "cell_type": "markdown",
   "metadata": {},
   "source": [
    "## 두 개 뽑아서 던지기\n",
    "\n",
    "출처: https://school.programmers.co.kr/learn/courses/30/lessons/68644\n",
    "\n",
    "배열의 길이 = n  \n",
    "시간복잡도 = O(n^2)\n",
    "\n",
    "Count Sort 응용해봤음"
   ]
  },
  {
   "cell_type": "code",
   "execution_count": null,
   "metadata": {},
   "outputs": [],
   "source": [
    "def solution(arr):\n",
    "    length = len(arr)\n",
    "\n",
    "    checkList = [False] * 201\n",
    "\n",
    "    for i in range(length - 1):\n",
    "        for j in range(i + 1, length):\n",
    "            idx = arr[i] + arr[j]\n",
    "            checkList[idx] |= True\n",
    "\n",
    "    result = []\n",
    "    for i in range(len(checkList)):\n",
    "        if checkList[i]:\n",
    "            result.append(i)\n",
    "    return result\n"
   ]
  }
 ],
 "metadata": {
  "kernelspec": {
   "display_name": "venv",
   "language": "python",
   "name": "python3"
  },
  "language_info": {
   "codemirror_mode": {
    "name": "ipython",
    "version": 3
   },
   "file_extension": ".py",
   "mimetype": "text/x-python",
   "name": "python",
   "nbconvert_exporter": "python",
   "pygments_lexer": "ipython3",
   "version": "3.9.4"
  }
 },
 "nbformat": 4,
 "nbformat_minor": 2
}
