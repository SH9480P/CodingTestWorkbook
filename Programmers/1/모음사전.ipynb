{
 "cells": [
  {
   "cell_type": "markdown",
   "metadata": {},
   "source": [
    "# 모음사전\n",
    "\n",
    "소요시간: 20분\n",
    "\n",
    "작성일시: 24.05.28 22:09:21\n",
    "\n",
    "출처: https://school.programmers.co.kr/learn/courses/30/lessons/84512\n",
    "\n",
    "### 접근 방법\n",
    ".\n",
    "\n",
    "### 시간 복잡도 분석\n",
    "O(5^5)\n",
    "\n",
    "### 새로 알게 된 것\n",
    ".\n",
    "\n",
    "### 주의할 점\n",
    ".\n",
    "\n",
    "### 기타 코멘트\n",
    ".\n"
   ]
  },
  {
   "cell_type": "code",
   "execution_count": null,
   "metadata": {},
   "outputs": [],
   "source": [
    "def dfs(all_words, word, chars, k):\n",
    "    all_words.append(word)\n",
    "    if k == 5:\n",
    "        return\n",
    "    for c in chars:\n",
    "        dfs(all_words, word+c, chars, k+1)\n",
    "\n",
    "def create_all_words():\n",
    "    all_words = []\n",
    "    chars = ['A', 'E', 'I', 'O', 'U']\n",
    "    dfs(all_words, '', chars, 0)\n",
    "    return all_words\n",
    "\n",
    "def binary_search(all_words, target_word):\n",
    "    start = 0\n",
    "    end = len(all_words) - 1\n",
    "    while start <= end:\n",
    "        mid = (start + end) // 2\n",
    "        if all_words[mid] < target_word:\n",
    "            start = mid + 1\n",
    "        elif all_words[mid] > target_word:\n",
    "            end = mid - 1\n",
    "        else:\n",
    "            return mid\n",
    "\n",
    "def solution(word):\n",
    "    all_words = create_all_words()\n",
    "    return binary_search(all_words, word)\n"
   ]
  }
 ],
 "metadata": {
  "language_info": {
   "name": "python"
  }
 },
 "nbformat": 4,
 "nbformat_minor": 2
}
