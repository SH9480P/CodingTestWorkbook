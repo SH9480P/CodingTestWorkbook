{
 "cells": [
  {
   "cell_type": "markdown",
   "metadata": {},
   "source": [
    "# 캐릭터의 좌표\n",
    "\n",
    "소요시간: 10분\n",
    "\n",
    "작성일시: 24.03.10 18:47:35\n",
    "\n",
    "출처: https://school.programmers.co.kr/learn/courses/30/lessons/120861\n",
    "\n",
    "### 접근 방법\n",
    ".\n",
    "\n",
    "### 시간 복잡도 분석\n",
    "O(n)\n",
    "\n",
    "### 새로 알게 된 것\n",
    ".\n",
    "\n",
    "### 주의할 점\n",
    ".\n",
    "\n",
    "### 기타 코멘트\n",
    ".\n"
   ]
  },
  {
   "cell_type": "code",
   "execution_count": null,
   "metadata": {},
   "outputs": [],
   "source": [
    "def solution(keyinput, board):\n",
    "    directions = [(-1, 0), (1, 0), (0, 1), (0, -1)]\n",
    "    dIdxHash = {\n",
    "        \"left\": 0,\n",
    "        \"right\": 1,\n",
    "        \"up\": 2,\n",
    "        \"down\": 3\n",
    "    }\n",
    "    r, c = 0, 0\n",
    "    horizonAbsMax = (board[0]-1)//2\n",
    "    verticalAbsMax = (board[1]-1)//2\n",
    "    for key in keyinput:\n",
    "        dIdx = dIdxHash[key]\n",
    "        dr, dc = directions[dIdx]\n",
    "        nr, nc = r+dr, c+dc\n",
    "        if abs(nr) <= horizonAbsMax and abs(nc) <= verticalAbsMax:\n",
    "            r, c = nr, nc\n",
    "    return [r, c]"
   ]
  }
 ],
 "metadata": {
  "language_info": {
   "name": "python"
  }
 },
 "nbformat": 4,
 "nbformat_minor": 2
}
