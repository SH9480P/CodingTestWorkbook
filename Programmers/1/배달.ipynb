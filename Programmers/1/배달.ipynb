{
 "cells": [
  {
   "cell_type": "markdown",
   "metadata": {},
   "source": [
    "# 배달\n",
    "\n",
    "소요시간: 18분\n",
    "\n",
    "작성일시: 24.03.04 22:43:57\n",
    "\n",
    "출처: https://school.programmers.co.kr/learn/courses/30/lessons/12978\n",
    "\n",
    "### 접근 방법\n",
    "dijkstra\n",
    "\n",
    "### 시간 복잡도 분석\n",
    "O(ElogV)\n",
    "\n",
    "### 새로 알게 된 것\n",
    ".\n",
    "\n",
    "### 주의할 점\n",
    ".\n",
    "\n",
    "### 기타 코멘트\n",
    "최단거리가 짧은 노드부터 결정된다는 점을 이용하여 heap에서 꺼낼때마다 counter를 증가시키고, K보다 커지면 이를 반환하였다.  \n",
    "모든 노드에 대한 최단거리를 계산하지 않아도 되기 때문에 효율적인 방식이다.\n"
   ]
  },
  {
   "cell_type": "code",
   "execution_count": null,
   "metadata": {},
   "outputs": [],
   "source": [
    "import heapq\n",
    "\n",
    "def solution(N, road, K):\n",
    "    INF = int(1e9)\n",
    "    distance = [INF] * (N+1)\n",
    "    graph = [[] for _ in range(N+1)]\n",
    "    for a, b, c in road:\n",
    "        graph[a].append((b,c))\n",
    "        graph[b].append((a,c))\n",
    "\n",
    "    q = []\n",
    "    distance[1] = 0\n",
    "    heapq.heappush(q, (0, 1))\n",
    "    answer = 0\n",
    "    while q:\n",
    "        dist, now = heapq.heappop(q)\n",
    "        if dist > distance[now]:\n",
    "            continue\n",
    "        if dist <= K:\n",
    "            answer += 1\n",
    "        else:\n",
    "            break\n",
    "        for next, weight in graph[now]:\n",
    "            originalDist = distance[next]\n",
    "            newDist = dist + weight\n",
    "            if originalDist > newDist:\n",
    "                distance[next] = newDist\n",
    "                heapq.heappush(q, (newDist, next))\n",
    "    return answer"
   ]
  }
 ],
 "metadata": {
  "language_info": {
   "name": "python"
  }
 },
 "nbformat": 4,
 "nbformat_minor": 2
}
