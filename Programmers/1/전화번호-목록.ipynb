{
 "cells": [
  {
   "cell_type": "markdown",
   "metadata": {},
   "source": [
    "## 전화번호 목록\n",
    "\n",
    "출처: https://school.programmers.co.kr/learn/courses/30/lessons/42577"
   ]
  },
  {
   "cell_type": "code",
   "execution_count": null,
   "metadata": {},
   "outputs": [],
   "source": [
    "def solution(phone_book):\n",
    "    prefix = {}\n",
    "    phone_book.sort(key=lambda x: len(x))\n",
    "    for numbers in phone_book:\n",
    "        for i in range(1, len(numbers)+1):\n",
    "            if numbers[:i] in prefix:\n",
    "                return False\n",
    "        prefix[numbers] = True\n",
    "    return True"
   ]
  }
 ],
 "metadata": {
  "language_info": {
   "name": "python"
  }
 },
 "nbformat": 4,
 "nbformat_minor": 2
}
