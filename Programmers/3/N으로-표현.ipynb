{
 "cells": [
  {
   "cell_type": "markdown",
   "metadata": {},
   "source": [
    "# N으로 표현\n",
    "\n",
    "소요시간: NaN\n",
    "\n",
    "작성일시: 24.03.23 20:42:41\n",
    "\n",
    "출처: https://school.programmers.co.kr/learn/courses/30/lessons/42895\n",
    "\n",
    "### 접근 방법\n",
    "N을 사용한 횟수에 따른 결과값을 dp table에 저장하면 8회까지 차례대로 구할 수 있음.\n",
    "\n",
    "### 시간 복잡도 분석\n",
    ".\n",
    "\n",
    "### 새로 알게 된 것\n",
    ".\n",
    "\n",
    "### 주의할 점\n",
    ".\n",
    "\n",
    "### 기타 코멘트\n",
    ".\n"
   ]
  },
  {
   "cell_type": "code",
   "execution_count": null,
   "metadata": {},
   "outputs": [],
   "source": [
    "def solution(N, number):\n",
    "    if number == N:\n",
    "        return 1\n",
    "    dp = [set(), {N}]\n",
    "    for i in range(2, 9):\n",
    "        dp.append({int(str(N)*i)})\n",
    "        for j in range(1, i):\n",
    "            for a in dp[j]:\n",
    "                for b in dp[i-j]:\n",
    "                    dp[i].update([a+b, a-b, a*b])\n",
    "                    if b != 0:\n",
    "                        dp[i].add(a//b)\n",
    "        if number in dp[i]:\n",
    "            return i\n",
    "    return -1"
   ]
  }
 ],
 "metadata": {
  "language_info": {
   "name": "python"
  }
 },
 "nbformat": 4,
 "nbformat_minor": 2
}
