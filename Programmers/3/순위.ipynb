{
 "cells": [
  {
   "cell_type": "markdown",
   "metadata": {},
   "source": [
    "# 순위\n",
    "\n",
    "소요시간: NaN\n",
    "\n",
    "작성일시: 24.06.13 23:07:22\n",
    "\n",
    "출처: https://school.programmers.co.kr/learn/courses/30/lessons/49191\n",
    "\n",
    "### 접근 방법\n",
    "a가 b를 이기고, b가 c를 이기면 a는 c를 이긴다고 간주할 수 있다.\n",
    "\n",
    "a에서 b로 이동할 수 있고, b에서 c로 이동할 수 있다면 a에서 c로도 이동할 수 있다.\n",
    "\n",
    "어떤 한 노드에서 다른 노드로 갈 수 있다면, 이기는 관계가 성립한다고 볼 수 있다.\n",
    "\n",
    "특정 노드에서 다른 모든 노드로 갈 수 있는지 확인하려면 floyd-warshall 알고리즘의 접근법을 활용할 수 있다.\n",
    "\n",
    "### 시간 복잡도 분석\n",
    ".\n",
    "\n",
    "### 새로 알게 된 것\n",
    ".\n",
    "\n",
    "### 주의할 점\n",
    ".\n",
    "\n",
    "### 기타 코멘트\n",
    "처음엔 위상정렬로 접근했는데, 아무리 생각해도 처리되지 않는 경우가 존재해서 답을 봤다.\n",
    "\n",
    "순위를 정할 수 있다 -> 다른 모든 사람과 붙어봐야 내 순위를 결정할 수 있다\n",
    "\n",
    "위 생각을 하지 못했다.\n"
   ]
  },
  {
   "cell_type": "code",
   "execution_count": null,
   "metadata": {},
   "outputs": [],
   "source": [
    "def solution(n, results):\n",
    "    graph = [[False] * (n+1) for _ in range(n+1)]\n",
    "    for a, b in results:\n",
    "        graph[a][b] = True\n",
    "    for i in range(1, n+1):\n",
    "        graph[i][i] = True\n",
    "\n",
    "    for k in range(1, n+1):\n",
    "        for i in range(1, n+1):\n",
    "            for j in range(1, n+1):\n",
    "                if i == j:\n",
    "                    continue\n",
    "                graph[i][j] = graph[i][j] or (graph[i][k] and graph[k][j])\n",
    "\n",
    "    answer = 0\n",
    "    for i in range(1, n+1):\n",
    "        determined = 0\n",
    "        for j in range(1, n+1):\n",
    "            if (graph[i][j] or graph[j][i]) and i != j:\n",
    "                determined += 1\n",
    "        if determined == n-1:\n",
    "            answer += 1\n",
    "    return answer"
   ]
  }
 ],
 "metadata": {
  "language_info": {
   "name": "python"
  }
 },
 "nbformat": 4,
 "nbformat_minor": 2
}
