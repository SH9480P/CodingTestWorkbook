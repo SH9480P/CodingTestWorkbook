{
 "cells": [
  {
   "cell_type": "markdown",
   "metadata": {},
   "source": [
    "# 방의 개수\n",
    "\n",
    "소요시간: NaN\n",
    "\n",
    "작성일시: 24.06.12 19:17:47\n",
    "\n",
    "출처: https://school.programmers.co.kr/learn/courses/30/lessons/49190\n",
    "\n",
    "### 접근 방법\n",
    "방을 어떻게 정의하는지를 알아내는 것이 어려웠다.\n",
    "\n",
    "문제 조건에 따르면, `그림을 그릴 때, 사방이 막히면 방 하나로 센다.`고 나와있다.\n",
    "\n",
    "생성되는 가장 작은 선이 아닌 도형이 방이 된다고 생각해도 무방하다.\n",
    "\n",
    "점으로 구성되는 도형과, 대각선이 교차하여 생기는 도형도 고려해야 한다.\n",
    "\n",
    "### 시간 복잡도 분석\n",
    "O(n)\n",
    "\n",
    "### 새로 알게 된 것\n",
    ".\n",
    "\n",
    "### 주의할 점\n",
    ".\n",
    "\n",
    "### 기타 코멘트\n",
    "문제 조건이 조금 더 구체적이었으면 좋았을 문제.\n"
   ]
  },
  {
   "cell_type": "code",
   "execution_count": null,
   "metadata": {},
   "outputs": [],
   "source": [
    "from collections import defaultdict\n",
    "\n",
    "def solution(arrows):\n",
    "    visited = set()\n",
    "    visited.add((0, 0))\n",
    "    x, y = 0, 0\n",
    "    directions = [(-1, 0), (-1, 1), (0, 1), (1, 1), (1, 0), (1, -1), (0, -1), (-1, -1)]\n",
    "    graph = defaultdict(set)\n",
    "    answer = 0\n",
    "    for a in arrows:\n",
    "        dx, dy = directions[a]\n",
    "        nx, ny = x+dx, y+dy\n",
    "        if (nx, ny) in graph[(x, y)] or (x, y) in graph[(nx, ny)]:\n",
    "            x, y = nx, ny\n",
    "            continue\n",
    "        diagonals = [(x, ny), (nx, y)]\n",
    "        if diagonals[0] in graph[diagonals[1]] or diagonals[1] in graph[diagonals[0]]:\n",
    "            answer += 1\n",
    "        if (nx, ny) in visited:\n",
    "            answer += 1\n",
    "        else:\n",
    "            visited.add((nx, ny))\n",
    "        graph[(x, y)].add((nx, ny))\n",
    "        graph[(nx, ny)].add((x, y))\n",
    "        x, y = nx, ny\n",
    "    return answer"
   ]
  }
 ],
 "metadata": {
  "language_info": {
   "name": "python"
  }
 },
 "nbformat": 4,
 "nbformat_minor": 2
}
