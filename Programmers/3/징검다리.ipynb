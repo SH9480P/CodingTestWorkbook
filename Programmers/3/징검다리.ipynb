{
 "cells": [
  {
   "cell_type": "markdown",
   "metadata": {},
   "source": [
    "# 징검다리\n",
    "\n",
    "소요시간: NaN\n",
    "\n",
    "작성일시: 24.06.11 12:16:12\n",
    "\n",
    "출처: https://school.programmers.co.kr/learn/courses/30/lessons/43236\n",
    "\n",
    "### 접근 방법\n",
    "binary search를 염두에 두고, binary search의 key를 어떤 값으로 정할 지 고민했다.\n",
    "\n",
    "징검다리의 총 길이는 1,000,000,000까지 될 수 있다. 돌을 삭제할 수 있는 징검다리의 최대 간격을 binary search로 조절해가며 탐색한다.\n",
    "\n",
    "탐색하다보면 삭제 가능한 돌의 개수보다 작거나 같은 수의 돌을 삭제할 수 있는 징검다리 최대 간격을 구할 수 있다.\n",
    "\n",
    "이 때, 남은 돌끼리의 간격 중 최솟값을 구하면 된다.\n",
    "\n",
    "### 시간 복잡도 분석\n",
    "O(nlogn)\n",
    "\n",
    "### 새로 알게 된 것\n",
    ".\n",
    "\n",
    "### 주의할 점\n",
    ".\n",
    "\n",
    "### 기타 코멘트\n",
    "처음에는 그리디한 접근법으로 O(n^2)의 방법을 생각했으나, 시간 초과가 예상되어 다른 방법을 고민했다.\n",
    "\n",
    "1시간 이상 고민해도 binary search를 적용할 방법이 떠오르지 않아 다른 사람의 풀이를 보았다.\n",
    "\n",
    "문제 조건을 분석하고, binary search를 의심했으면 탐색할 값을 무엇으로 정할지 생각해보는 과정이 필요하다.\n"
   ]
  },
  {
   "cell_type": "code",
   "execution_count": null,
   "metadata": {},
   "outputs": [],
   "source": [
    "def solution(distance, rocks, n):\n",
    "    rocks.sort()\n",
    "    rocks.append(distance)\n",
    "    left = 0\n",
    "    right = distance\n",
    "    answer = 0\n",
    "    while left <= right:\n",
    "        mid = (left+right) // 2\n",
    "        prev = 0\n",
    "        deleted = 0\n",
    "        min_diff = int(1e9)\n",
    "        for rock in rocks:\n",
    "            diff = rock - prev\n",
    "            if diff < mid:\n",
    "                deleted += 1\n",
    "            else:\n",
    "                prev = rock\n",
    "                min_diff = min(min_diff, diff)\n",
    "        if deleted > n:\n",
    "            right = mid - 1\n",
    "        else:\n",
    "            left = mid + 1\n",
    "            answer = min_diff\n",
    "    return answer"
   ]
  }
 ],
 "metadata": {
  "language_info": {
   "name": "python"
  }
 },
 "nbformat": 4,
 "nbformat_minor": 2
}
