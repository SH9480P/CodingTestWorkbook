{
 "cells": [
  {
   "cell_type": "markdown",
   "metadata": {},
   "source": [
    "# 사칙연산\n",
    "\n",
    "소요시간: NaN\n",
    "\n",
    "작성일시: 24.06.14 22:54:50\n",
    "\n",
    "출처: https://school.programmers.co.kr/learn/courses/30/lessons/1843\n",
    "\n",
    "### 접근 방법\n",
    "피연산자의 순서는 변하지 않으므로, 부분 수열의 최댓값 및 최솟값을 dp table에 저장하여 전체 수열의 최댓값을 구한다.\n",
    "\n",
    "최솟값은 뺄셈 연산 시 최댓값을 구할 때 사용된다.\n",
    "\n",
    "### 시간 복잡도 분석\n",
    ".\n",
    "\n",
    "### 새로 알게 된 것\n",
    ".\n",
    "\n",
    "### 주의할 점\n",
    ".\n",
    "\n",
    "### 기타 코멘트\n",
    ".\n"
   ]
  },
  {
   "cell_type": "code",
   "execution_count": null,
   "metadata": {},
   "outputs": [],
   "source": [
    "def solution(arr):\n",
    "    n = len(arr) // 2 + 1\n",
    "    max_dp = [[-int(1e9)] * n for _ in range(n)]\n",
    "    min_dp = [[int(1e9)] * n for _ in range(n)]\n",
    "    for i in range(n):\n",
    "        max_dp[i][i] = int(arr[i * 2])\n",
    "        min_dp[i][i] = int(arr[i * 2])\n",
    "    for diff in range(1, n):\n",
    "        for i in range(n-diff):\n",
    "            j = i+diff\n",
    "            for k in range(i, j):\n",
    "                if arr[2*k+1] == '-':\n",
    "                    min_dp[i][j] = min(min_dp[i][j], min_dp[i][k] - max_dp[k+1][j])\n",
    "                    max_dp[i][j] = max(max_dp[i][j], max_dp[i][k] - min_dp[k+1][j])\n",
    "                else:\n",
    "                    min_dp[i][j] = min(min_dp[i][j], min_dp[i][k] + min_dp[k+1][j])\n",
    "                    max_dp[i][j] = max(max_dp[i][j], max_dp[i][k] + max_dp[k+1][j])\n",
    "    return max_dp[0][n-1]"
   ]
  }
 ],
 "metadata": {
  "language_info": {
   "name": "python"
  }
 },
 "nbformat": 4,
 "nbformat_minor": 2
}
