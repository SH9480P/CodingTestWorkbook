{
 "cells": [
  {
   "cell_type": "markdown",
   "metadata": {},
   "source": [
    "# 미로 탈출 명령어\n",
    "\n",
    "소요시간: NaN\n",
    "\n",
    "작성일시: 24.03.26 11:18:28\n",
    "\n",
    "출처: https://school.programmers.co.kr/learn/courses/30/lessons/150365\n",
    "\n",
    "### 접근 방법\n",
    "- 사전순으로 먼저 오는 경로를 선택해야 한다. d, l, r, u 순.\n",
    "- 시작점에서 끝점까지 가는 최소 필요 경로를 구하고, 남는 이동 거리에 대해서는 d, l, r, u 순으로 채워 넣는다.\n",
    "- 필요 이상으로 간 d에 대해서는 마지막에 u를 해 주어야 한다.\n",
    "- 필요 이상으로 간 l에 대해서는 뒤에 r을 해 주어야 한다.\n",
    "- (1,1)에 위치하여 더이상 d, l로 갈 수 없지만 이동거리가 그래도 남으면 rl를 반복한다. ud보다 우선순위가 높기 때문.\n",
    "- 그리디.\n",
    "\n",
    "### 시간 복잡도 분석\n",
    "o(N)\n",
    "\n",
    "### 새로 알게 된 것\n",
    ".\n",
    "\n",
    "### 주의할 점\n",
    ".\n",
    "\n",
    "### 기타 코멘트\n",
    "왜 이렇게 복잡하게 생각했을까~~\n"
   ]
  },
  {
   "cell_type": "code",
   "execution_count": null,
   "metadata": {},
   "outputs": [],
   "source": [
    "def solution(n, m, x, y, r, c, k):\n",
    "    answer = ''\n",
    "    dist = abs(x-r) + abs(y-c)\n",
    "    if k < dist or (k-dist) % 2:\n",
    "        return 'impossible'\n",
    "    else:\n",
    "        d = {'d': 0, 'l': 0, 'r': 0, 'u': 0}\n",
    "        if r - x > 0:\n",
    "            d['d'] += r - x\n",
    "        else:\n",
    "            d['u'] += x - r\n",
    "        if c - y > 0:\n",
    "            d['r'] += c - y\n",
    "        else:\n",
    "            d['l'] += y - c\n",
    "\n",
    "        k -= dist\n",
    "        extra_down = min(n - (x + d['d']), k // 2)\n",
    "        d['d'] += extra_down\n",
    "        d['u'] += extra_down\n",
    "        answer += 'd' * d['d']\n",
    "        k -= 2 * extra_down\n",
    "\n",
    "        extra_left = min(y - d['l'] - 1, k // 2)\n",
    "        d['l'] += extra_left\n",
    "        d['r'] += extra_left\n",
    "        answer += 'l' * d['l']\n",
    "        k -= 2 * extra_left\n",
    "\n",
    "        answer += 'rl' * (k // 2)\n",
    "\n",
    "        answer += 'r' * d['r']\n",
    "        answer += 'u' * d['u']\n",
    "\n",
    "        return answer"
   ]
  }
 ],
 "metadata": {
  "language_info": {
   "name": "python"
  }
 },
 "nbformat": 4,
 "nbformat_minor": 2
}
