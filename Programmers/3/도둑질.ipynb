{
 "cells": [
  {
   "cell_type": "markdown",
   "metadata": {},
   "source": [
    "# 도둑질\n",
    "\n",
    "소요시간: NaN\n",
    "\n",
    "작성일시: 24.03.23 22:47:50\n",
    "\n",
    "출처: https://school.programmers.co.kr/learn/courses/30/lessons/42897\n",
    "\n",
    "### 접근 방법\n",
    "1st\n",
    "- 원형이기 때문에 첫번째 집과 마지막 집의 연속 선택 여부를 고려해야 하므로, 첫번째 집을 선택했을때의 dp table과 선택하지 않았을 때의 dp table을 나누고자 한 것은 좋았음.\n",
    "- dp table의 i번째 아이템에 i번째 집을 선택했을 때의 최댓값을 넣고자 하였음.\n",
    "- 실패\n",
    "\n",
    "2nd\n",
    "- dp table에 i번째 집을 선택했을 때와 선택하지 않았을 때의 최댓값을 비교하여 더 큰 값을 넣어둠.\n",
    "- 성공\n",
    "\n",
    "### 시간 복잡도 분석\n",
    ".\n",
    "\n",
    "### 새로 알게 된 것\n",
    ".\n",
    "\n",
    "### 주의할 점\n",
    ".\n",
    "\n",
    "### 기타 코멘트\n",
    ".\n"
   ]
  },
  {
   "cell_type": "code",
   "execution_count": null,
   "metadata": {},
   "outputs": [],
   "source": [
    "def solution(money):\n",
    "    n = len(money)\n",
    "    dp = [[0]*2 for _ in range(n)]\n",
    "    dp[0] = [money[0], 0]\n",
    "    dp[1] = [0, money[1]]\n",
    "    dp[2] = [money[0]+money[2], 0]\n",
    "\n",
    "    for i in range(3, n):\n",
    "        for j in range(2):\n",
    "            dp[i][j] = money[i] + max(dp[i-2][j], dp[i-3][j])\n",
    "\n",
    "    return max(dp[-1][1], dp[-2][0])"
   ]
  },
  {
   "cell_type": "code",
   "execution_count": null,
   "metadata": {},
   "outputs": [],
   "source": [
    "def solution(money):\n",
    "    n = len(money)\n",
    "    dp = [[0]*2 for _ in range(n)]\n",
    "    dp[0] = [money[0], 0]\n",
    "    dp[1] = [money[0], money[1]]\n",
    "\n",
    "    for i in range(2, n):\n",
    "        for j in range(2):\n",
    "            dp[i][j] = max(dp[i-1][j], dp[i-2][j] + money[i])\n",
    "\n",
    "    return max(dp[-1][1], dp[-2][0])"
   ]
  }
 ],
 "metadata": {
  "language_info": {
   "name": "python"
  }
 },
 "nbformat": 4,
 "nbformat_minor": 2
}
