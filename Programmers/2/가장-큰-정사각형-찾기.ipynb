{
 "cells": [
  {
   "cell_type": "markdown",
   "metadata": {},
   "source": [
    "# 가장 큰 정사각형 찾기\n",
    "\n",
    "소요시간: 20분\n",
    "\n",
    "작성일시: 24.03.24 01:08:41\n",
    "\n",
    "출처: https://school.programmers.co.kr/learn/courses/30/lessons/12905\n",
    "\n",
    "### 접근 방법\n",
    "서쪽, 북쪽, 북서쪽 칸에 만들 수 있는 정사각형 크기를 저장하고 이를 비교하여 더 큰 정사각형을 만들 수 있는지 비교.\n",
    "\n",
    "### 시간 복잡도 분석\n",
    ".\n",
    "\n",
    "### 새로 알게 된 것\n",
    ".\n",
    "\n",
    "### 주의할 점\n",
    ".\n",
    "\n",
    "### 기타 코멘트\n",
    "전에 풀어본 문제라 빨리 풀었음.\n"
   ]
  },
  {
   "cell_type": "code",
   "execution_count": null,
   "metadata": {},
   "outputs": [],
   "source": [
    "def solution(board):\n",
    "    n = len(board)\n",
    "    m = len(board[0])\n",
    "    dp = [[0]*m for _ in range(n)]\n",
    "    for i in range(n):\n",
    "        if i == 0:\n",
    "            dp[i] = board[0][:]\n",
    "            continue\n",
    "        for j in range(m):\n",
    "            if j == 0:\n",
    "                dp[i][j] = board[i][j]\n",
    "            elif board[i][j] == 1:\n",
    "                dp[i][j] = min(dp[i-1][j-1], dp[i-1][j], dp[i][j-1]) + 1\n",
    "    return max(map(max, dp))**2"
   ]
  }
 ],
 "metadata": {
  "language_info": {
   "name": "python"
  }
 },
 "nbformat": 4,
 "nbformat_minor": 2
}
