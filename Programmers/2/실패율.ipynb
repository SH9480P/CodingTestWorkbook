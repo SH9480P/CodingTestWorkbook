{
 "cells": [
  {
   "cell_type": "markdown",
   "metadata": {},
   "source": [
    "## 실패율\n",
    "\n",
    "출처: https://school.programmers.co.kr/learn/courses/30/lessons/42889\n",
    "\n",
    "스테이지 수 = N  \n",
    "참가자 수 = M  \n",
    "시간복잡도 = O(NlogN + M)\n",
    "\n",
    "#### 아쉬웠던 점\n",
    "\n",
    "- \"N + 1 은 마지막 스테이지(N 번째 스테이지) 까지 클리어 한 사용자를 나타낸다.\" 조건을 보고도 challenging 리스트에 N+1번째 인덱스를 포함시키지 않아 런타임 에러 발생.\n",
    "- 마지막 스테이지까지 도달한 사람이 없을 때, 실패율을 구하는 공식에서 분모에 0이 들어가는 경우를 생각하지 못하여 런타임 에러 발생.\n",
    "\n",
    "#### 새로 알게 된 점\n",
    "\n",
    "##### dictionary를 정렬할 수 있다\n",
    "- dict를 sorted로 감싸면 key를 정렬한 배열을 얻을 수 있다. 단, sort는 사용할 수 없다.\n",
    "- 첫 번째 풀이에서는 실패율을 배열에 저장하고, 원래 index를 참조하기 위해 enumerate로 감싼 다음 정렬시켰는데, dict에 저장하면 깔끔하다!\n"
   ]
  },
  {
   "cell_type": "code",
   "execution_count": null,
   "metadata": {},
   "outputs": [],
   "source": [
    "def solution(N, stages):\n",
    "    challenging = [0] * (N + 2)\n",
    "    for s in stages:\n",
    "        challenging[s] += 1\n",
    "    failureRate = [0] * (N + 1)\n",
    "    reached = [0] * (N + 1)\n",
    "    total = len(stages)\n",
    "    reached[0] = total\n",
    "    for i in range(1, N+1):\n",
    "        reached[i] = reached[i-1] - challenging[i-1]\n",
    "        if reached[i]:\n",
    "            failureRate[i] = challenging[i] / reached[i]\n",
    "    failureRateWithIdx = []\n",
    "    for i, r in enumerate(failureRate):\n",
    "        i != 0 and failureRateWithIdx.append((r, -i))\n",
    "    failureRateWithIdx.sort(reverse=True)\n",
    "    return list(map(lambda x: -x[1], failureRateWithIdx))"
   ]
  },
  {
   "cell_type": "code",
   "execution_count": null,
   "metadata": {},
   "outputs": [],
   "source": [
    "def solution(N, stages):\n",
    "    challenged = [0] * (N+2)\n",
    "    for s in stages:\n",
    "        challenged[s] += 1\n",
    "    \n",
    "    rate = dict()\n",
    "    total = len(stages)\n",
    "    for i in range(1, N+1):\n",
    "        if total:\n",
    "            rate[i] = challenged[i] / total\n",
    "            total -= challenged[i]\n",
    "        else:\n",
    "            rate[i] = 0\n",
    "    return sorted(rate, key=lambda x: (-rate[x], x))"
   ]
  }
 ],
 "metadata": {
  "language_info": {
   "name": "python"
  }
 },
 "nbformat": 4,
 "nbformat_minor": 2
}
