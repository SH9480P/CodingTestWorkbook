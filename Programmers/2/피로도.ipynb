{
 "cells": [
  {
   "cell_type": "markdown",
   "metadata": {},
   "source": [
    "# 피로도\n",
    "\n",
    "소요시간: 29분\n",
    "\n",
    "작성일시: 24.03.06 00:25:18\n",
    "\n",
    "출처: https://school.programmers.co.kr/learn/courses/30/lessons/87946\n",
    "\n",
    "### 접근 방법\n",
    "- dfs로 순열 구하는 방법을 응용해보았다.\n",
    "\n",
    "### 시간 복잡도 분석\n",
    "O(N!)\n",
    "\n",
    "### 새로 알게 된 것\n",
    ".\n",
    "\n",
    "### 주의할 점\n",
    ".\n",
    "\n",
    "### 기타 코멘트\n",
    ".\n"
   ]
  },
  {
   "cell_type": "code",
   "execution_count": null,
   "metadata": {},
   "outputs": [],
   "source": [
    "def solution(k, dungeons):\n",
    "    def explore(cnt, left, tried):\n",
    "        if tried == n:\n",
    "            return cnt\n",
    "        result = tried\n",
    "        for i in range(n):\n",
    "            if not visited[i] and left >= dungeons[i][0]:\n",
    "                visited[i] = True\n",
    "                result = max(result, explore(cnt+1, left-dungeons[i][1], tried+1))\n",
    "                visited[i] = False\n",
    "        return result\n",
    "\n",
    "    n = len(dungeons)\n",
    "    visited = [False] * n\n",
    "    return explore(0, k, 0)"
   ]
  }
 ],
 "metadata": {
  "language_info": {
   "name": "python"
  }
 },
 "nbformat": 4,
 "nbformat_minor": 2
}
