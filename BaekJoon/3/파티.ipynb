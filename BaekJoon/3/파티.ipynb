{
 "cells": [
  {
   "cell_type": "markdown",
   "metadata": {},
   "source": [
    "# 파티\n",
    "\n",
    "소요시간: NaN\n",
    "\n",
    "작성일시: 24.06.15 10:22:18\n",
    "\n",
    "출처: https://www.acmicpc.net/problem/1238\n",
    "\n",
    "### 접근 방법\n",
    "X마을에서 집으로 돌아갈 땐 dijkstra를 사용하자.\n",
    "\n",
    "각각의 집에서 X로 파티하러 갈 땐 그래프 간선의 방향을 바꾼 뒤 dijkstra를 사용하자.\n",
    "\n",
    "### 시간 복잡도 분석\n",
    "O(ElogE)\n",
    "\n",
    "### 새로 알게 된 것\n",
    "한 점에서 다른 모든 점으로의 최단 거리를 구하고 싶다면 dijkstra가 적격이다.\n",
    "\n",
    "다른 모든 점으로부터 한 점으로의 최단 거리를 구하고 싶다면? graph를 거꾸로 돌려서 dijkstra를 수행하자.\n",
    "\n",
    "### 주의할 점\n",
    ".\n",
    "\n",
    "### 기타 코멘트\n",
    "다른 모든 점으로부터 한 점으로 가는 최단 거리를 구하는 방법을 구글링하여 알게 되었다.\n"
   ]
  },
  {
   "cell_type": "code",
   "execution_count": null,
   "metadata": {},
   "outputs": [],
   "source": [
    "import sys\n",
    "import heapq\n",
    "\n",
    "def dijkstra(graph, n, start):\n",
    "    INF = int(1e9)\n",
    "    distance = [INF] * (n+1)\n",
    "    distance[start] = 0\n",
    "    q = [(0, start)]\n",
    "    while q:\n",
    "        dist, cur = heapq.heappop(q)\n",
    "        if dist > distance[cur]:\n",
    "            continue\n",
    "        for node, cost in graph[cur]:\n",
    "            new_dist = dist + cost\n",
    "            if new_dist < distance[node]:\n",
    "                heapq.heappush(q, (new_dist, node))\n",
    "                distance[node] = new_dist\n",
    "    return distance\n",
    "\n",
    "input = sys.stdin.readline\n",
    "town_num, road_num, party_town = map(int, input().rstrip().split())\n",
    "graph = [[] for _ in range(town_num+1)]\n",
    "reversed_graph = [[] for _ in range(town_num+1)]\n",
    "for _ in range(road_num):\n",
    "    s, e, c = map(int, input().rstrip().split())\n",
    "    graph[s].append((e, c))\n",
    "    reversed_graph[e].append((s, c))\n",
    "\n",
    "coming_distance = dijkstra(graph, town_num, party_town)\n",
    "going_distance = dijkstra(reversed_graph, town_num, party_town)\n",
    "print(max(map(lambda x: coming_distance[x]+going_distance[x], range(1, town_num+1))))"
   ]
  }
 ],
 "metadata": {
  "language_info": {
   "name": "python"
  }
 },
 "nbformat": 4,
 "nbformat_minor": 2
}
