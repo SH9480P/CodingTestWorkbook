{
 "cells": [
  {
   "cell_type": "markdown",
   "metadata": {},
   "source": [
    "# 행렬 곱셈 순서\n",
    "\n",
    "소요시간: NaN\n",
    "\n",
    "작성일시: 24.05.16 17:55:01\n",
    "\n",
    "출처: https://www.acmicpc.net/problem/11049\n",
    "\n",
    "### 접근 방법\n",
    "https://youtu.be/5MXOUix_Ud4?si=NuiATPpjwbSxyzM8\n",
    "\n",
    "### 시간 복잡도 분석\n",
    "brute force는 지수 시간.  \n",
    "DP로 하면 O(n^3).\n",
    "\n",
    "### 새로 알게 된 것\n",
    ".\n",
    "\n",
    "### 주의할 점\n",
    ".\n",
    "\n",
    "### 기타 코멘트\n",
    ".\n"
   ]
  },
  {
   "cell_type": "code",
   "execution_count": null,
   "metadata": {},
   "outputs": [],
   "source": [
    "import sys\n",
    "\n",
    "input = sys.stdin.readline\n",
    "\n",
    "n = int(input())\n",
    "d = []\n",
    "for _ in range(n):\n",
    "    r, c = map(int, input().split())\n",
    "    if not d:\n",
    "        d.append(r)\n",
    "    d.append(c)\n",
    "INF = 2 ** 31 - 1\n",
    "m = [[INF] * (n + 1) for _ in range(n + 1)]\n",
    "for i in range(1, n+1):\n",
    "    m[i][i] = 0\n",
    "\n",
    "for diff in range(1, n):\n",
    "    for i in range(1, n-diff+1):\n",
    "        j = i + diff\n",
    "        for k in range(i, j):\n",
    "            m[i][j] = min(m[i][j], m[i][k] + m[k+1][j] + d[i-1]*d[k]*d[j])\n",
    "print(m[1][-1])\n"
   ]
  }
 ],
 "metadata": {
  "language_info": {
   "name": "python"
  }
 },
 "nbformat": 4,
 "nbformat_minor": 2
}
