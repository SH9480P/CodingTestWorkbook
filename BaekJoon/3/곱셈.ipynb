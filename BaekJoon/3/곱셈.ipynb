{
 "cells": [
  {
   "cell_type": "markdown",
   "metadata": {},
   "source": [
    "# 곱셈\n",
    "\n",
    "소요시간: NaN\n",
    "\n",
    "작성일시: 24.06.15 10:52:07\n",
    "\n",
    "출처: https://www.acmicpc.net/problem/1629\n",
    "\n",
    "### 접근 방법\n",
    "그냥 곱하면 시간 제한에 걸린다.\n",
    "\n",
    "곱셈의 횟수를 줄일 방법이 필요하다.\n",
    "\n",
    "곱셈의 지수법칙을 이용하면, 지수의 위가 짝수일 때 곱셈의 횟수를 줄일 수 있다.\n",
    "\n",
    "### 시간 복잡도 분석\n",
    "O(log b)\n",
    "\n",
    "### 새로 알게 된 것\n",
    ".\n",
    "\n",
    "### 주의할 점\n",
    ".\n",
    "\n",
    "### 기타 코멘트\n",
    ".\n"
   ]
  },
  {
   "cell_type": "code",
   "execution_count": null,
   "metadata": {},
   "outputs": [],
   "source": [
    "from sys import stdin\n",
    "a, b, c = map(int, stdin.readline().split())\n",
    "def solution(a, b, c):\n",
    "    if b == 1:\n",
    "        return a % c\n",
    "    sub_result = solution(a, b//2, c)\n",
    "    answer = (sub_result % c) * (sub_result % c)\n",
    "    if b%2:\n",
    "        answer = (answer % c) * (a % c)\n",
    "    return answer % c\n",
    "print(solution(a, b, c))"
   ]
  }
 ],
 "metadata": {
  "language_info": {
   "name": "python"
  }
 },
 "nbformat": 4,
 "nbformat_minor": 2
}
