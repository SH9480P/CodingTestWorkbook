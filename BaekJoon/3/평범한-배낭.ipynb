{
 "cells": [
  {
   "cell_type": "markdown",
   "metadata": {},
   "source": [
    "# 평범한 배낭\n",
    "\n",
    "소요시간: NaN\n",
    "\n",
    "작성일시: 24.03.24 21:25:21\n",
    "\n",
    "출처: https://www.acmicpc.net/problem/12865\n",
    "\n",
    "### 접근 방법\n",
    "DP 0/1 problem\n",
    "\n",
    "### 시간 복잡도 분석\n",
    "O(NK)\n",
    "\n",
    "### 새로 알게 된 것\n",
    ".\n",
    "\n",
    "### 주의할 점\n",
    ".\n",
    "\n",
    "### 기타 코멘트\n",
    ".\n"
   ]
  },
  {
   "cell_type": "code",
   "execution_count": null,
   "metadata": {},
   "outputs": [],
   "source": [
    "from sys import stdin\n",
    "\n",
    "def solution(N, K):\n",
    "    dp = [[0] * (K + 1) for _ in range(N + 1)]\n",
    "    for i in range(1, N + 1):\n",
    "        w, v = map(int, stdin.readline().split())\n",
    "        if w > K:\n",
    "            dp[i] = dp[i - 1][:]\n",
    "            continue\n",
    "        for j in range(1, K + 1):\n",
    "            if j >= w:\n",
    "                dp[i][j] = max(dp[i - 1][j], v + dp[i - 1][j - w])\n",
    "            else:\n",
    "                dp[i][j] = dp[i - 1][j]\n",
    "    return dp[-1][-1]\n",
    "\n",
    "N, K = map(int, stdin.readline().split())\n",
    "print(solution(N, K))"
   ]
  }
 ],
 "metadata": {
  "language_info": {
   "name": "python"
  }
 },
 "nbformat": 4,
 "nbformat_minor": 2
}
