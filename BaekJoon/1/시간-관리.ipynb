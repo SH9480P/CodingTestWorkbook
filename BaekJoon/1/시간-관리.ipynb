{
 "cells": [
  {
   "cell_type": "markdown",
   "metadata": {},
   "source": [
    "# 시간 관리\n",
    "\n",
    "소요시간: 15분\n",
    "\n",
    "작성일시: 24.05.19 16:17:26\n",
    "\n",
    "출처: https://www.acmicpc.net/problem/1263\n",
    "\n",
    "### 접근 방법\n",
    "그리디.  \n",
    "업무 시작 시각을 최대한 늦게 해야 하니, 마감 기한이 제일 늦은 일부터 마감 기한에 딱 맞게 스케줄링해야 함.\n",
    "\n",
    "### 시간 복잡도 분석\n",
    "O(nlogn)\n",
    "\n",
    "### 새로 알게 된 것\n",
    ".\n",
    "\n",
    "### 주의할 점\n",
    ".\n",
    "\n",
    "### 기타 코멘트\n",
    ".\n"
   ]
  },
  {
   "cell_type": "code",
   "execution_count": null,
   "metadata": {},
   "outputs": [],
   "source": [
    "N = int(input())\n",
    "ts = [tuple(map(int, input().split())) for _ in range(N)]\n",
    "ts.sort(key=lambda x: x[1], reverse=True)\n",
    "\n",
    "next_start = 1000000\n",
    "for t, s in ts:\n",
    "    if s < next_start:\n",
    "        next_start = s - t\n",
    "    else:\n",
    "        next_start -= t\n",
    "    if next_start < 0:\n",
    "        next_start = -1\n",
    "        break\n",
    "print(next_start)"
   ]
  }
 ],
 "metadata": {
  "language_info": {
   "name": "python"
  }
 },
 "nbformat": 4,
 "nbformat_minor": 2
}
