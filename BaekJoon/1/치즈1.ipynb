{
 "cells": [
  {
   "cell_type": "markdown",
   "metadata": {},
   "source": [
    "# 치즈1\n",
    "\n",
    "소요시간: 52분\n",
    "\n",
    "작성일시: 24.03.25 10:53:00\n",
    "\n",
    "출처: https://www.acmicpc.net/problem/2636\n",
    "\n",
    "### 접근 방법\n",
    "bfs\n",
    "\n",
    "### 시간 복잡도 분석\n",
    "O(n^3)\n",
    "\n",
    "### 새로 알게 된 것\n",
    ".\n",
    "\n",
    "### 주의할 점\n",
    ".\n",
    "\n",
    "### 기타 코멘트\n",
    "- 치즈를 탐색하는 것이 아니고 빈칸을 탐색해야 하는 접근 방식이 새로운 유형이었다.\n"
   ]
  },
  {
   "cell_type": "code",
   "execution_count": null,
   "metadata": {},
   "outputs": [],
   "source": [
    "from sys import stdin\n",
    "from collections import deque\n",
    "\n",
    "def is_grid_in(r, c, N, M):\n",
    "    return 0 <= r < N and 0 <= c < M\n",
    "\n",
    "def melt_cheese(board, N, M):\n",
    "    prev_cheese = []\n",
    "    cnt = 0\n",
    "    empty = 0\n",
    "    cheese = 1\n",
    "    rdlu = [(0, 1), (1, 0), (0, -1), (-1, 0)]\n",
    "    while True:\n",
    "        cur_cheese = []\n",
    "        visited = [[0]*M for _ in range(N)]\n",
    "        q = deque([(0, 0)])\n",
    "        while q:\n",
    "            x, y = q.popleft()\n",
    "            for dx, dy in rdlu:\n",
    "                nx, ny = x+dx, y+dy\n",
    "                if is_grid_in(nx, ny, N, M):\n",
    "                    if visited[nx][ny] == 0 and board[nx][ny] == empty:\n",
    "                        q.append((nx, ny))\n",
    "                        visited[nx][ny] = 1\n",
    "                    elif board[nx][ny] == cheese and visited[nx][ny] != -1:\n",
    "                        cur_cheese.append((nx, ny))\n",
    "                        visited[nx][ny] = -1\n",
    "        if not cur_cheese:\n",
    "            break\n",
    "        else:\n",
    "            prev_cheese = cur_cheese\n",
    "            cnt += 1\n",
    "            for x, y in cur_cheese:\n",
    "                board[x][y] = empty\n",
    "\n",
    "    return cnt, len(prev_cheese)\n",
    "\n",
    "input = stdin.readline\n",
    "N, M = map(int, input().split())\n",
    "board = [list(map(int, input().rstrip().split())) for _ in range(N)]\n",
    "\n",
    "print(*melt_cheese(board, N, M), sep='\\n')"
   ]
  }
 ],
 "metadata": {
  "language_info": {
   "name": "python"
  }
 },
 "nbformat": 4,
 "nbformat_minor": 2
}
