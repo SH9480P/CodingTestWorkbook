{
 "cells": [
  {
   "cell_type": "markdown",
   "metadata": {},
   "source": [
    "# 적록색약\n",
    "\n",
    "소요시간: 30분\n",
    "\n",
    "작성일시: 24.03.09 10:28:33\n",
    "\n",
    "출처: https://www.acmicpc.net/problem/10026\n",
    "\n",
    "### 접근 방법\n",
    "비적록색약, 적록색약 탐색 기준을 달리 하여 dfs 2번 돌리기\n",
    "\n",
    "### 시간 복잡도 분석\n",
    "O(N^2)\n",
    "\n",
    "### 새로 알게 된 것\n",
    ".\n",
    "\n",
    "### 주의할 점\n",
    ".\n",
    "\n",
    "### 기타 코멘트\n",
    ".\n"
   ]
  },
  {
   "cell_type": "code",
   "execution_count": null,
   "metadata": {},
   "outputs": [],
   "source": [
    "import sys\n",
    "sys.setrecursionlimit(100000)\n",
    "input = sys.stdin.readline\n",
    "RDLU = [(0, 1), (1, 0), (0, -1), (-1, 0)]\n",
    "\n",
    "n = int(input().rstrip())\n",
    "\n",
    "def isGridIn(r, c):\n",
    "    return 0 <= r < n and 0 <= c < n\n",
    "\n",
    "def dfs(board, visited, r, c, color, isSakMang):\n",
    "    visited[r][c] = True\n",
    "    for dr, dc in RDLU:\n",
    "        nr, nc = r+dr, c+dc\n",
    "        if isGridIn(nr, nc) and not visited[nr][nc]:\n",
    "            if board[nr][nc] == color or (isSakMang and color in ['R', 'G'] and board[nr][nc] in ['R', 'G']):\n",
    "                dfs(board, visited, nr, nc, color, isSakMang)\n",
    "\n",
    "\n",
    "def solution():\n",
    "    board = [list(input().rstrip()) for _ in range(n)]\n",
    "    visited = [[False]*n for _ in range(n)]\n",
    "    noDisabled = 0\n",
    "    disabled = 0\n",
    "    for i in range(n):\n",
    "        for j in range(n):\n",
    "            if not visited[i][j]:\n",
    "                dfs(board, visited, i, j, board[i][j], False)\n",
    "                noDisabled += 1\n",
    "    visited = [[False] * n for _ in range(n)]\n",
    "    for i in range(n):\n",
    "        for j in range(n):\n",
    "            if not visited[i][j]:\n",
    "                dfs(board, visited, i, j, board[i][j], True)\n",
    "                disabled += 1\n",
    "\n",
    "    print(noDisabled, disabled)\n",
    "\n",
    "solution()"
   ]
  }
 ],
 "metadata": {
  "language_info": {
   "name": "python"
  }
 },
 "nbformat": 4,
 "nbformat_minor": 2
}
