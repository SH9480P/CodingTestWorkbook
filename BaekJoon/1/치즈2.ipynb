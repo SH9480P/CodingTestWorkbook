{
 "cells": [
  {
   "cell_type": "markdown",
   "metadata": {},
   "source": [
    "# 치즈2\n",
    "\n",
    "소요시간: 35분\n",
    "\n",
    "작성일시: 24.03.30 17:25:18\n",
    "\n",
    "출처: https://www.acmicpc.net/problem/2638\n",
    "\n",
    "### 접근 방법\n",
    "구현\n",
    "\n",
    "### 시간 복잡도 분석\n",
    "O(NM * min(N, M))\n",
    "\n",
    "### 새로 알게 된 것\n",
    ".\n",
    "\n",
    "### 주의할 점\n",
    ".\n",
    "\n",
    "### 기타 코멘트\n",
    ".\n"
   ]
  },
  {
   "cell_type": "code",
   "execution_count": null,
   "metadata": {},
   "outputs": [],
   "source": [
    "import sys\n",
    "from collections import deque\n",
    "\n",
    "input = sys.stdin.readline\n",
    "\n",
    "ROW, COL = map(int, input().split())\n",
    "board = [list(map(int, input().rstrip().split())) for _ in range(ROW)]\n",
    "ways = [(0, 1), (1, 0), (0, -1), (-1, 0)]\n",
    "\n",
    "answer = 0\n",
    "while True:\n",
    "    outside = []\n",
    "    visited = [[False] * COL for _ in range(ROW)]\n",
    "    q = deque([(0, 0)])\n",
    "    visited[0][0] = True\n",
    "    while q:\n",
    "        x, y = q.popleft()\n",
    "        for dx, dy in ways:\n",
    "            nx, ny = x + dx, y + dy\n",
    "            if 0 <= nx < ROW and 0 <= ny < COL and not visited[nx][ny]:\n",
    "                visited[nx][ny] = True\n",
    "                if board[nx][ny]:\n",
    "                    outside.append((nx, ny))\n",
    "                else:\n",
    "                    q.append((nx, ny))\n",
    "    if not outside:\n",
    "        break\n",
    "    answer += 1\n",
    "    outside_will_be_deleted = []\n",
    "    for x, y in outside:\n",
    "        cnt = 0\n",
    "        for dx, dy in ways:\n",
    "            nx, ny = x + dx, y + dy\n",
    "            if visited[nx][ny] and board[nx][ny] == 0:\n",
    "                cnt += 1\n",
    "        if cnt >= 2:\n",
    "            outside_will_be_deleted.append((x, y))\n",
    "    for x, y in outside_will_be_deleted:\n",
    "        board[x][y] = 0\n",
    "print(answer)"
   ]
  }
 ],
 "metadata": {
  "language_info": {
   "name": "python"
  }
 },
 "nbformat": 4,
 "nbformat_minor": 2
}
