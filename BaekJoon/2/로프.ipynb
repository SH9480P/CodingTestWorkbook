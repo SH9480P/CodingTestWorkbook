{
 "cells": [
  {
   "cell_type": "markdown",
   "metadata": {},
   "source": [
    "# 로프\n",
    "\n",
    "소요시간: NaN\n",
    "\n",
    "작성일시: 24.05.19 15:51:00\n",
    "\n",
    "출처: https://www.acmicpc.net/problem/2217\n",
    "\n",
    "### 접근 방법\n",
    "제일 튼튼한 로프 순으로 정렬시키고, 차례대로 선택하면서 로프가 버틸 수 있는 무게를 계산.  \n",
    "그리디.\n",
    "\n",
    "### 시간 복잡도 분석\n",
    "O(nlogn)\n",
    "\n",
    "### 새로 알게 된 것\n",
    ".\n",
    "\n",
    "### 주의할 점\n",
    "테스트 케이스\n",
    "- 3 1 1 1 1 1\n",
    "\n",
    "### 기타 코멘트\n",
    ".\n"
   ]
  },
  {
   "cell_type": "code",
   "execution_count": null,
   "metadata": {},
   "outputs": [],
   "source": [
    "N = int(input())\n",
    "ropes = [int(input()) for _ in range(N)]\n",
    "ropes.sort(reverse=True)\n",
    "\n",
    "weight = ropes[0]\n",
    "for i in range(1, N):\n",
    "    cap = ropes[i]\n",
    "    cur_max_weight = cap * (i+1)\n",
    "    if weight < cur_max_weight:\n",
    "        weight = cur_max_weight\n",
    "print(weight)"
   ]
  }
 ],
 "metadata": {
  "language_info": {
   "name": "python"
  }
 },
 "nbformat": 4,
 "nbformat_minor": 2
}
