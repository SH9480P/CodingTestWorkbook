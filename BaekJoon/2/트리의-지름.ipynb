{
 "cells": [
  {
   "cell_type": "markdown",
   "metadata": {},
   "source": [
    "# 트리의 지름\n",
    "\n",
    "소요시간: 120분\n",
    "\n",
    "작성일시: 24.05.27 14:48:27\n",
    "\n",
    "출처: https://www.acmicpc.net/problem/1167\n",
    "\n",
    "### 접근 방법\n",
    "연결된 간선이 1개뿐인 가장자리의 노드부터 조회하면서, 각 노드에 접근하는데 드는 비용의 최댓값과 그 다음 최댓값을 저장한다.\n",
    "\n",
    "마지막 1개의 노드가 남을 때까지 위의 과정을 진행, 거쳐온 노드 중 비용의 최댓값과 그 다음 최댓값의 합이 가장 큰 값을 출력한다.\n",
    "\n",
    "### 시간 복잡도 분석\n",
    "O(간선의 수)\n",
    "\n",
    "### 새로 알게 된 것\n",
    ".\n",
    "\n",
    "### 주의할 점\n",
    ".\n",
    "\n",
    "### 기타 코멘트\n",
    ".\n"
   ]
  },
  {
   "cell_type": "code",
   "execution_count": null,
   "metadata": {},
   "outputs": [],
   "source": [
    "import sys\n",
    "from collections import deque\n",
    "\n",
    "def solution(vertex_num, graph, weight, indegree):\n",
    "    q = deque()\n",
    "    d = [[0] * 2 for _ in range(vertex_num+1)]\n",
    "    radius = 0\n",
    "    for i in range(1, vertex_num+1):\n",
    "        if indegree[i] == 1:\n",
    "            q.append(i)\n",
    "    while q:\n",
    "        i = q.popleft()\n",
    "        radius = max(radius, sum(d[i]))\n",
    "        if indegree[i] == 0:\n",
    "            return radius\n",
    "        else:\n",
    "            for node in graph[i]:\n",
    "                indegree[node] -= 1\n",
    "                graph[node].remove(i)\n",
    "                d[node] = sorted([d[i][0]+weight[frozenset({i, node})], d[node][0], d[node][1]], reverse=True)[:2]\n",
    "                if indegree[node] == 1:\n",
    "                    q.append(node)\n",
    "\n",
    "input = sys.stdin.readline\n",
    "V = int(input())\n",
    "graph = [set() for _ in range(V+1)]\n",
    "weight = dict()\n",
    "indegree = [0] * (V + 1)\n",
    "for _ in range(V):\n",
    "    v_info = list(map(int, input().rstrip().split()))\n",
    "    v = v_info[0]\n",
    "    for i in range(1, len(v_info)-1, 2):\n",
    "        other_v, w = v_info[i], v_info[i+1]\n",
    "        graph[v].add(other_v)\n",
    "        weight[frozenset({v, other_v})] = w\n",
    "        indegree[other_v] += 1\n",
    "print(solution(V, graph, weight, indegree))"
   ]
  }
 ],
 "metadata": {
  "language_info": {
   "name": "python"
  }
 },
 "nbformat": 4,
 "nbformat_minor": 2
}
