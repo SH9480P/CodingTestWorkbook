{
 "cells": [
  {
   "cell_type": "markdown",
   "metadata": {},
   "source": [
    "# IOIOI\n",
    "\n",
    "소요시간: 40분\n",
    "\n",
    "작성일시: 24.06.23 14:40:16\n",
    "\n",
    "출처: https://www.acmicpc.net/problem/5525\n",
    "\n",
    "### 접근 방법\n",
    "(I)OI의 조합만으로 Pn을 만들 수 있다.\n",
    "\n",
    "Pn을 통째로 비교하는 방법은 시간 초과를 발생시키므로, Pn을 만드는데 필요한 글자의 수와 S에 포함된 유효한 P 집합의 길이 및 수를 따로 저장하면 쉬이 계산할 수 있다.\n",
    "\n",
    "### 시간 복잡도 분석\n",
    "O(n)\n",
    "\n",
    "### 새로 알게 된 것\n",
    "~~는 32bit를 벗어나는 데이터를 truncate하는 효과가 있다.\n",
    "\n",
    "i.e. ~~(32.9) === 32\n",
    "\n",
    "i.e. ~~(-32.9) === -32\n",
    "\n",
    "### 주의할 점\n",
    ".\n",
    "\n",
    "### 기타 코멘트\n",
    ".\n"
   ]
  },
  {
   "cell_type": "code",
   "execution_count": null,
   "metadata": {
    "vscode": {
     "languageId": "javascript"
    }
   },
   "outputs": [],
   "source": [
    "const fs = require('fs')\n",
    "\n",
    "const input = fs.readFileSync('/dev/stdin').toString().trim().split('\\n')\n",
    "\n",
    "const N = Number(input[0])\n",
    "const M = Number(input[1])\n",
    "const S = input[2].trim() + 'x'\n",
    "\n",
    "const PNLength = 2 * N + 1\n",
    "\n",
    "let flag = false\n",
    "let chunks = []\n",
    "let curChunk = 0\n",
    "for (let char of S) {\n",
    "    if (!flag && (char === 'I')) {\n",
    "        flag = true\n",
    "        curChunk += 1\n",
    "    } else if (flag && (char === 'O')) {\n",
    "        flag = false\n",
    "        curChunk += 1\n",
    "    } else {\n",
    "        if (curChunk > 2 && curChunk >= PNLength) {\n",
    "            chunks.push(curChunk)\n",
    "        }\n",
    "        if (char === 'I') {\n",
    "            curChunk = 1\n",
    "            flag = true\n",
    "        } else {\n",
    "            curChunk = 0\n",
    "            flag = false\n",
    "        }\n",
    "    }\n",
    "}\n",
    "let answer = 0\n",
    "for (let chunk of chunks) {\n",
    "    answer += ~~((chunk - PNLength) / 2) + 1\n",
    "}\n",
    "console.log(answer)"
   ]
  }
 ],
 "metadata": {
  "language_info": {
   "name": "python"
  }
 },
 "nbformat": 4,
 "nbformat_minor": 2
}
