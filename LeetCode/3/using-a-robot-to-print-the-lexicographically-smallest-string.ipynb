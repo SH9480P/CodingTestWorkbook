{
 "cells": [
  {
   "cell_type": "markdown",
   "metadata": {},
   "source": [
    "# using a robot to print the lexicographically smallest string\n",
    "\n",
    "소요시간: NaN\n",
    "\n",
    "작성일시: 24.06.25 10:28:11\n",
    "\n",
    "출처: https://leetcode.com/problems/using-a-robot-to-print-the-lexicographically-smallest-string/description/\n",
    "\n",
    "### 접근 방법\n",
    "그리디한 접근법이 존재한다.\n",
    "\n",
    "t 스택의 top과 남은 문자열 중 제일 작은 문자를 비교, 제일 작은 문자가 남은 문자열에 존재하면 t에 push, 그렇지 않으면 t의 top을 pop한다.\n",
    "\n",
    "### 시간 복잡도 분석\n",
    "O(26n)\n",
    "\n",
    "### 새로 알게 된 것\n",
    ".\n",
    "\n",
    "### 주의할 점\n",
    ".\n",
    "\n",
    "### 기타 코멘트\n",
    "접근법이 보이지 않았다.\n",
    "\n",
    "문제를 단순하게, 크게 보자.\n"
   ]
  },
  {
   "cell_type": "code",
   "execution_count": null,
   "metadata": {},
   "outputs": [],
   "source": [
    "from collections import Counter\n",
    "\n",
    "class Solution:\n",
    "    def robotWithString(self, s: str) -> str:\n",
    "        counter = Counter(s)\n",
    "        answer = ''\n",
    "        t = []\n",
    "        i = 0\n",
    "        while i < len(s):\n",
    "            minChar = self.minCharLeft(counter)\n",
    "            if not t or t[-1] > minChar:\n",
    "                t.append(s[i])\n",
    "                counter[s[i]] -= 1\n",
    "                i += 1\n",
    "            else:\n",
    "                answer += t.pop()\n",
    "        if t:\n",
    "            answer += ''.join(t[::-1])\n",
    "        return answer\n",
    "\n",
    "    def minCharLeft(self, counter):\n",
    "        for char in map(lambda x: chr(x), range(ord('a'), ord('z')+1)):\n",
    "            if counter[char] > 0:\n",
    "                return char\n",
    "        return 'zz'\n",
    "    "
   ]
  }
 ],
 "metadata": {
  "language_info": {
   "name": "python"
  }
 },
 "nbformat": 4,
 "nbformat_minor": 2
}
