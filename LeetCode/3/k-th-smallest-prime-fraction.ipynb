{
 "cells": [
  {
   "cell_type": "markdown",
   "metadata": {},
   "source": [
    "# k th smallest prime fraction\n",
    "\n",
    "소요시간: NaN\n",
    "\n",
    "작성일시: 24.06.11 17:37:29\n",
    "\n",
    "출처: https://leetcode.com/problems/k-th-smallest-prime-fraction/description/\n",
    "\n",
    "### 접근 방법\n",
    "가능한 모든 경우를 나열하여 정렬시키고 kth 분수를 반환하면 너무 오래 걸릴 것이다.\n",
    "\n",
    "1~k th의 분수만 구하는 것이 좋겠다.\n",
    "\n",
    "제일 작은 값은 arr[0]/arr[-1] 이다.\n",
    "\n",
    "그 다음으로 작은 값은 arr[1] / arr[-1] 또는 arr[0] / arr[-2]가 될 것이다.\n",
    "\n",
    "무엇이 더 작은지 비교하는 것은 min-heap에 맡기자.\n",
    "\n",
    "arr[i] / arr[j]는 arr[i] / arr[j-1]보다 항상 작기 때문에, arr[i]/arr[j]를 pop하면 arr[i]/arr[j-1]를 넣을 수 있다.\n",
    "\n",
    "heap에서 k번 pop하면 분수를 구할 수 있다.\n",
    "\n",
    "### 시간 복잡도 분석\n",
    "O(NlogN)\n",
    "\n",
    "### 새로 알게 된 것\n",
    ".\n",
    "\n",
    "### 주의할 점\n",
    ".\n",
    "\n",
    "### 기타 코멘트\n",
    ".\n"
   ]
  },
  {
   "cell_type": "code",
   "execution_count": null,
   "metadata": {},
   "outputs": [],
   "source": [
    "import heapq\n",
    "\n",
    "class Solution:\n",
    "    def kthSmallestPrimeFraction(self, arr, k):\n",
    "        q = []\n",
    "        n = len(arr)\n",
    "        for i in range(n-1):\n",
    "            heapq.heappush(q, (arr[i]/arr[-1], i, n-1))\n",
    "        a, b = 0, 0\n",
    "        for _ in range(k):\n",
    "            _, i, j = heapq.heappop(q)\n",
    "            a, b = arr[i], arr[j]\n",
    "            if j-1 > i:\n",
    "                heapq.heappush(q, (arr[i]/arr[j-1], i, j-1))\n",
    "        return [a, b]\n",
    "        "
   ]
  }
 ],
 "metadata": {
  "language_info": {
   "name": "python"
  }
 },
 "nbformat": 4,
 "nbformat_minor": 2
}
