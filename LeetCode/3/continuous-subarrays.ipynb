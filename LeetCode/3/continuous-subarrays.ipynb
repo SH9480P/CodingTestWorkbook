{
 "cells": [
  {
   "cell_type": "markdown",
   "metadata": {},
   "source": [
    "# continuous subarrays\n",
    "\n",
    "소요시간: NaN\n",
    "\n",
    "작성일시: 24.06.24 10:56:01\n",
    "\n",
    "출처: https://leetcode.com/problems/continuous-subarrays/description/\n",
    "\n",
    "### 접근 방법\n",
    "sub array는 연속되어야 한다.\n",
    "\n",
    "sub array의 right를 기준으로, right가 0에서 n-1이 되는 경우에 대해 sub array를 찾아나간다.\n",
    "\n",
    "right - 1, right - 2, ... 를 순차적으로 조회하면서 sub array에 포함시킬지 확인할 수 있다. \n",
    "\n",
    "하지만 위 방법은 O(n^2)의 시간복잡도를 보이며, 시간초과가 우려된다.\n",
    "\n",
    "연속된 집합의 최솟값과 최댓값을 알 수 있다면, 해당 값이 sub array에 포함되지 않는 경우 중 제일 오른쪽에 위치하는 값이 현재 sub array의 바로 왼쪽 값이 될 것이다.\n",
    "\n",
    "최댓값과 최솟값을 조회하는 작업은 heap을 사용한다.\n",
    "\n",
    "### 시간 복잡도 분석\n",
    "O(nlogn)\n",
    "\n",
    "### 새로 알게 된 것\n",
    ".\n",
    "\n",
    "### 주의할 점\n",
    ".\n",
    "\n",
    "### 기타 코멘트\n",
    ".\n"
   ]
  },
  {
   "cell_type": "code",
   "execution_count": null,
   "metadata": {},
   "outputs": [],
   "source": [
    "import heapq\n",
    "\n",
    "class Solution:\n",
    "    def continuousSubarrays(self, nums: List[int]) -> int:\n",
    "        answer = 0\n",
    "        n = len(nums)\n",
    "        max_q, min_q = [], []\n",
    "        left = -1\n",
    "        for right in range(n):\n",
    "            while max_q and -max_q[0][0] - nums[right] > 2:\n",
    "                left = max(left, heapq.heappop(max_q)[1])\n",
    "            while min_q and min_q[0][0] - nums[right] < -2:\n",
    "                left = max(left, heapq.heappop(min_q)[1])\n",
    "            heapq.heappush(max_q, (-nums[right], right))\n",
    "            heapq.heappush(min_q, (nums[right], right))\n",
    "            answer += right - left\n",
    "        return answer\n",
    "        "
   ]
  }
 ],
 "metadata": {
  "language_info": {
   "name": "python"
  }
 },
 "nbformat": 4,
 "nbformat_minor": 2
}
