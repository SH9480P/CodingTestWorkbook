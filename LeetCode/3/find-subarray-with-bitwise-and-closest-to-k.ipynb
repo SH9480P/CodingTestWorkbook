{
 "cells": [
  {
   "cell_type": "markdown",
   "metadata": {},
   "source": [
    "# find subarray with bitwise and closest to k\n",
    "\n",
    "소요시간: NaN\n",
    "\n",
    "작성일시: 24.06.02 23:54:05\n",
    "\n",
    "출처: https://leetcode.com/problems/find-subarray-with-bitwise-and-closest-to-k/\n",
    "\n",
    "### 접근 방법\n",
    "##### 1st\n",
    ".\n",
    "\n",
    "##### 2nd\n",
    ".\n",
    "\n",
    "### 시간 복잡도 분석\n",
    ".\n",
    "\n",
    "### 새로 알게 된 것\n",
    ".\n",
    "\n",
    "### 주의할 점\n",
    ".\n",
    "\n",
    "### 기타 코멘트\n",
    ".\n"
   ]
  },
  {
   "cell_type": "code",
   "execution_count": null,
   "metadata": {},
   "outputs": [],
   "source": [
    "class Solution:\n",
    "    def minimumDifference(self, nums, k) -> int:\n",
    "        min_diff = int(1e9)\n",
    "        n = len(nums)\n",
    "        for i in range(n):\n",
    "            sub_result = -1\n",
    "            for j in range(i, n):\n",
    "                sub_result &= nums[j]\n",
    "                min_diff = min(min_diff, abs(sub_result - k))\n",
    "                if sub_result < k:\n",
    "                    break\n",
    "                if sub_result == k:\n",
    "                    return 0\n",
    "        return min_diff"
   ]
  }
 ],
 "metadata": {
  "language_info": {
   "name": "python"
  }
 },
 "nbformat": 4,
 "nbformat_minor": 2
}
