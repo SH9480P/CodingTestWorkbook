{
 "cells": [
  {
   "cell_type": "markdown",
   "metadata": {},
   "source": [
    "# count the hidden sequences\n",
    "\n",
    "소요시간: 20분\n",
    "\n",
    "작성일시: 24.06.16 23:56:15\n",
    "\n",
    "출처: https://leetcode.com/problems/count-the-hidden-sequences/\n",
    "\n",
    "### 접근 방법\n",
    ".\n",
    "\n",
    "### 시간 복잡도 분석\n",
    "O(n)\n",
    "\n",
    "### 새로 알게 된 것\n",
    ".\n",
    "\n",
    "### 주의할 점\n",
    ".\n",
    "\n",
    "### 기타 코멘트\n",
    ".\n"
   ]
  },
  {
   "cell_type": "code",
   "execution_count": null,
   "metadata": {},
   "outputs": [],
   "source": [
    "class Solution:\n",
    "    def numberOfArrays(self, differences: List[int], lower: int, upper: int) -> int:\n",
    "        arr = [0]\n",
    "        for i in range(len(differences)):\n",
    "            arr.append(arr[i] + differences[i])\n",
    "        max_val = max(arr)\n",
    "        min_val = min(arr)\n",
    "\n",
    "        val = (upper - max_val) - (lower - min_val) + 1\n",
    "        return val if val > 0 else 0"
   ]
  }
 ],
 "metadata": {
  "language_info": {
   "name": "python"
  }
 },
 "nbformat": 4,
 "nbformat_minor": 2
}
