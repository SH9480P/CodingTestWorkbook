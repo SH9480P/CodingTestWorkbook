{
 "cells": [
  {
   "cell_type": "markdown",
   "metadata": {},
   "source": [
    "# minimum lines to represent a line chart\n",
    "\n",
    "소요시간: 30분\n",
    "\n",
    "작성일시: 24.06.20 14:21:27\n",
    "\n",
    "출처: https://leetcode.com/problems/minimum-lines-to-represent-a-line-chart/\n",
    "\n",
    "### 접근 방법\n",
    "이전 선분의 기울기가 현재 선분의 기울기와 일치하는지 순회하면서 확인, 일치하지 않는 횟수만큼 1 증가하여 반환\n",
    "\n",
    "### 시간 복잡도 분석\n",
    "O(nlogn)\n",
    "\n",
    "### 새로 알게 된 것\n",
    ".\n",
    "\n",
    "### 주의할 점\n",
    ".\n",
    "\n",
    "### 기타 코멘트\n",
    ".\n"
   ]
  },
  {
   "cell_type": "code",
   "execution_count": null,
   "metadata": {},
   "outputs": [],
   "source": [
    "class Solution:\n",
    "    def minimumLines(self, stockPrices: List[List[int]]) -> int:\n",
    "        stockPrices.sort(key=lambda x: x[0])\n",
    "        n = len(stockPrices)\n",
    "        if n == 1:\n",
    "            return 0\n",
    "        dy = (stockPrices[1][1] - stockPrices[0][1])\n",
    "        dx = (stockPrices[1][0] - stockPrices[0][0])\n",
    "        answer = 1\n",
    "        for i in range(2, n):\n",
    "            ndy = stockPrices[i][1] - stockPrices[i-1][1]\n",
    "            ndx = stockPrices[i][0] - stockPrices[i-1][0]\n",
    "            if dy*ndx != dx*ndy:\n",
    "                dx = ndx\n",
    "                dy = ndy\n",
    "                answer += 1\n",
    "        return answer"
   ]
  }
 ],
 "metadata": {
  "language_info": {
   "name": "python"
  }
 },
 "nbformat": 4,
 "nbformat_minor": 2
}
