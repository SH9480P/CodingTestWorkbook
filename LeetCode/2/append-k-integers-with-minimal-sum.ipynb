{
 "cells": [
  {
   "cell_type": "markdown",
   "metadata": {},
   "source": [
    "# append k integers with minimal sum\n",
    "\n",
    "소요시간: 28분\n",
    "\n",
    "작성일시: 24.06.21 20:44:36\n",
    "\n",
    "출처: https://leetcode.com/problems/append-k-integers-with-minimal-sum/\n",
    "\n",
    "### 접근 방법\n",
    "합이 최소가 되도록 하려면 sums를 정렬시키고, 앞에서부터 순회하면서 sums에 없는 구간의 자연수를 더해나가면 된다.\n",
    "\n",
    "문제는 k가 1억개까지 존재할 수 있다는 사실이다. 이를 하나씩 더하면 시간 초과가 우려되는 상황이다.\n",
    "\n",
    "### 시간 복잡도 분석\n",
    "O(n)\n",
    "\n",
    "### 새로 알게 된 것\n",
    "연속된 자연수를 더해나갈 때, n(n+1)//2를 사용하면 연산을 줄일 수 있다.\n",
    "\n",
    "### 주의할 점\n",
    ".\n",
    "\n",
    "### 기타 코멘트\n",
    ".\n"
   ]
  },
  {
   "cell_type": "code",
   "execution_count": null,
   "metadata": {},
   "outputs": [],
   "source": [
    "class Solution:\n",
    "    def sumRange(self, a, b):\n",
    "        return b*(b+1)//2 - a*(a-1)//2\n",
    "    def minimalKSum(self, nums: List[int], k: int) -> int:\n",
    "        nums.sort()\n",
    "        answer = 0\n",
    "        prev = 0\n",
    "        for n in nums:\n",
    "            if n - prev > 1:\n",
    "                sub_k = n - prev - 1\n",
    "                if k - sub_k > 0:\n",
    "                    answer += self.sumRange(prev+1, n-1)\n",
    "                    k -= sub_k\n",
    "                else:\n",
    "                    answer += self.sumRange(prev+1, prev+k)\n",
    "                    k = 0\n",
    "                    break\n",
    "            prev = n\n",
    "        if k:\n",
    "            answer += self.sumRange(nums[-1]+1, nums[-1]+k)\n",
    "        return answer"
   ]
  }
 ],
 "metadata": {
  "language_info": {
   "name": "python"
  }
 },
 "nbformat": 4,
 "nbformat_minor": 2
}
