{
 "cells": [
  {
   "cell_type": "markdown",
   "metadata": {},
   "source": [
    "# longest palindromic substring\n",
    "\n",
    "소요시간: 30분\n",
    "\n",
    "작성일시: 24.06.18 14:43:28\n",
    "\n",
    "출처: https://leetcode.com/problems/longest-palindromic-substring/description/\n",
    "\n",
    "### 접근 방법\n",
    "최초 brute force를 생각했으나 시간초과가 예상되어 DP로 접근할 수 있는지 알아보았다.\n",
    "\n",
    "Palindrome인 Substring의 양 옆에 동일한 문자를 붙여 palindrome을 만들 수 있다.\n",
    "\n",
    "s[k:k+1]은 당연히 palindrome이고, s[k:k+2] 중에 동일한 문자가 2번 반복되면 palindrome이다.\n",
    "\n",
    "위 초기 palindrome substrings를 대상으로 양 옆에 동일한 문자가 오는지 확인, 온다면 palindrome이므로 다시 동일한 문자가 오는지 확인하는 작업을 반복한다.\n",
    "\n",
    "### 시간 복잡도 분석\n",
    "O(n^2)\n",
    "\n",
    "### 새로 알게 된 것\n",
    ".\n",
    "\n",
    "### 주의할 점\n",
    ".\n",
    "\n",
    "### 기타 코멘트\n",
    ".\n"
   ]
  },
  {
   "cell_type": "code",
   "execution_count": null,
   "metadata": {},
   "outputs": [],
   "source": [
    "from collections import deque\n",
    "\n",
    "class Solution:\n",
    "    def longestPalindrome(self, s: str) -> str:\n",
    "        n = len(s)\n",
    "        dp = deque((i,i) for i in range(n))\n",
    "        for i in range(n-1):\n",
    "            if s[i] == s[i+1]:\n",
    "                dp.append((i, i + 1))\n",
    "        while dp:\n",
    "            i, j = dp.popleft()\n",
    "            if i - 1 >= 0 and j + 1 < n and s[i-1] == s[j+1]:\n",
    "                dp.append((i-1, j+1))\n",
    "            elif not dp:\n",
    "                return s[i:j+1]"
   ]
  }
 ],
 "metadata": {
  "language_info": {
   "name": "python"
  }
 },
 "nbformat": 4,
 "nbformat_minor": 2
}
