{
 "cells": [
  {
   "cell_type": "markdown",
   "metadata": {},
   "source": [
    "# remove k digits\n",
    "\n",
    "소요시간: 90분\n",
    "\n",
    "작성일시: 24.06.20 11:16:22\n",
    "\n",
    "출처: https://leetcode.com/problems/remove-k-digits/\n",
    "\n",
    "### 접근 방법\n",
    "ith index를 기준으로 i-1 th index의 값이 더 크면 i-1을 삭제한다.\n",
    "\n",
    "k만큼 위의 과정을 반복하되, k만큼 삭제하기 전에 전체 문자열을 순회했다면 문자열은 증가하는 양상을 보일 것이기 때문에 맨 뒤에서부터 남은 삭제 횟수만큼 삭제한다.\n",
    "\n",
    "### 시간 복잡도 분석\n",
    "O(n)\n",
    "\n",
    "### 새로 알게 된 것\n",
    ".\n",
    "\n",
    "### 주의할 점\n",
    "테스트케이스를 많이 만들어두자.\n",
    "\n",
    "### 기타 코멘트\n",
    ".\n"
   ]
  },
  {
   "cell_type": "code",
   "execution_count": null,
   "metadata": {},
   "outputs": [],
   "source": [
    "class Solution:\n",
    "    def removeKdigits(self, num: str, k: int) -> str:\n",
    "        n = len(num)\n",
    "        if n <= k:\n",
    "            return \"0\"\n",
    "        answer = [num[0]]\n",
    "        i = 1\n",
    "        deleted = 0\n",
    "        while i < n:\n",
    "            if deleted == k:\n",
    "                last = num[i:]\n",
    "                j = 0\n",
    "                if not answer:\n",
    "                    while j < len(last):\n",
    "                        if last[j] != '0':\n",
    "                            break\n",
    "                        j += 1\n",
    "                answer.extend(list(last[j:]))\n",
    "                break\n",
    "            if answer and answer[-1] > num[i]:\n",
    "                answer.pop()\n",
    "                deleted += 1\n",
    "            else:\n",
    "                if answer or num[i] != '0':\n",
    "                    answer.append(num[i])\n",
    "                i += 1\n",
    "        if not answer:\n",
    "            return '0'\n",
    "        elif deleted < k:\n",
    "            if len(answer) <= k-deleted:\n",
    "                return '0'\n",
    "            else:\n",
    "                return ''.join(answer[:len(answer)-(k-deleted)])\n",
    "        else:\n",
    "            return ''.join(answer)"
   ]
  }
 ],
 "metadata": {
  "language_info": {
   "name": "python"
  }
 },
 "nbformat": 4,
 "nbformat_minor": 2
}
