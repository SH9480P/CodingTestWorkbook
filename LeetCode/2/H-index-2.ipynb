{
 "cells": [
  {
   "cell_type": "markdown",
   "metadata": {},
   "source": [
    "# H index 2\n",
    "\n",
    "소요시간: 35분\n",
    "\n",
    "작성일시: 24.06.14 11:43:26\n",
    "\n",
    "출처: https://leetcode.com/problems/h-index-ii/description/\n",
    "\n",
    "### 접근 방법\n",
    "citations는 정렬되어있다.\n",
    "\n",
    "현재 idx를 포함하여 뒤로 남아있는 citation의 개수가 현재 idx의 citation값보다 작으면 H-index로 삼을 수 있다.\n",
    "\n",
    "위의 조건에 맞는 idx를 찾는 과정은 순차 탐색으로도 가능하고, 이분 탐색으로도 가능하다.\n",
    "\n",
    "### 시간 복잡도 분석\n",
    "O(logN)\n",
    "\n",
    "### 새로 알게 된 것\n",
    ".\n",
    "\n",
    "### 주의할 점\n",
    ".\n",
    "\n",
    "### 기타 코멘트\n",
    "leetcode 상에서는 두 solutions의 실행 시간에 차이가 없다.\n",
    "\n",
    "테스트케이스가 편향되어있는 것일까?\n"
   ]
  },
  {
   "cell_type": "code",
   "execution_count": null,
   "metadata": {},
   "outputs": [],
   "source": [
    "class Solution:\n",
    "    def hIndex(self, citations: List[int]) -> int:\n",
    "        n = len(citations)\n",
    "        for i in range(n):\n",
    "            if n-i <= citations[i]:\n",
    "                return n-i\n",
    "        return 0\n",
    "        "
   ]
  },
  {
   "cell_type": "code",
   "execution_count": null,
   "metadata": {},
   "outputs": [],
   "source": [
    "class Solution:\n",
    "    def hIndex(self, citations: List[int]) -> int:\n",
    "        n = len(citations)\n",
    "        left, right = 0, n-1\n",
    "        while left <= right:\n",
    "            mid = (left+right)//2\n",
    "            if n - mid < citations[mid]:\n",
    "                right = mid - 1\n",
    "            elif n - mid > citations[mid]:\n",
    "                left = mid + 1\n",
    "            else:\n",
    "                return n - mid\n",
    "        return n - left if left < n else 0"
   ]
  }
 ],
 "metadata": {
  "language_info": {
   "name": "python"
  }
 },
 "nbformat": 4,
 "nbformat_minor": 2
}
