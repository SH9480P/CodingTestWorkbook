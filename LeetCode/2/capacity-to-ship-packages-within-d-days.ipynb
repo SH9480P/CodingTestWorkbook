{
 "cells": [
  {
   "cell_type": "markdown",
   "metadata": {},
   "source": [
    "# capacity to ship packages within d days\n",
    "\n",
    "소요시간: 70분\n",
    "\n",
    "작성일시: 24.06.12 00:02:19\n",
    "\n",
    "출처: https://leetcode.com/problems/capacity-to-ship-packages-within-d-days\n",
    "\n",
    "### 접근 방법\n",
    "부분수열의 합의 최댓값을 binary search로 탐색하는 방법.\n",
    "\n",
    "### 시간 복잡도 분석\n",
    "N = weights 길이, S = weights 합\n",
    "\n",
    "O(NlogS)\n",
    "\n",
    "### 새로 알게 된 것\n",
    ".\n",
    "\n",
    "### 주의할 점\n",
    ".\n",
    "\n",
    "### 기타 코멘트\n",
    ".\n"
   ]
  },
  {
   "cell_type": "code",
   "execution_count": null,
   "metadata": {},
   "outputs": [],
   "source": [
    "class Solution:\n",
    "    def shipWithinDays(self, weights: List[int], days: int) -> int:\n",
    "        total_weight = sum(weights)\n",
    "        max_weight = max(weights)\n",
    "        left = max(total_weight // days, max_weight)\n",
    "        right = total_weight\n",
    "        answer = 0\n",
    "        while left <= right:\n",
    "            mid = (left + right) // 2\n",
    "            d = 0\n",
    "            sub_weights = 0\n",
    "            for i in range(len(weights)):\n",
    "                if sub_weights + weights[i] < mid:\n",
    "                    sub_weights += weights[i]\n",
    "                elif sub_weights + weights[i] > mid:\n",
    "                    sub_weights = weights[i]\n",
    "                    d += 1\n",
    "                else:\n",
    "                    sub_weights = 0\n",
    "                    d += 1\n",
    "            if sub_weights:\n",
    "                d += 1\n",
    "            if d <= days:\n",
    "                right = mid - 1\n",
    "                answer = mid\n",
    "            else:\n",
    "                left = mid + 1\n",
    "        return answer\n",
    "                "
   ]
  }
 ],
 "metadata": {
  "language_info": {
   "name": "python"
  }
 },
 "nbformat": 4,
 "nbformat_minor": 2
}
