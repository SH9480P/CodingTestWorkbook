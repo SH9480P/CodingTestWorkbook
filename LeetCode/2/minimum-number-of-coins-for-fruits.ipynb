{
 "cells": [
  {
   "cell_type": "markdown",
   "metadata": {},
   "source": [
    "# minimum number of coins for fruits\n",
    "\n",
    "소요시간: 2시간\n",
    "\n",
    "작성일시: 24.06.23 14:29:37\n",
    "\n",
    "출처: https://leetcode.com/problems/minimum-number-of-coins-for-fruits/description/\n",
    "\n",
    "### 접근 방법\n",
    "##### 점화식\n",
    "DP[i][0]: i th 과일의 값을 지불하지 않고 i번째까지의 최소 구매 비용\n",
    "\n",
    "DP[i][1]: i th 과일의 값을 지불한 상태에서 i번째까지의 최소 구매 비용\n",
    "\n",
    "DP[i][1] = min(DP[i-1][0], DP[i-1][1]) + prices[i]  \n",
    "k가 i+1 ~ 2i+1일 때, DP[k][0] = min(DP[k][0], DP[i][1])\n",
    "\n",
    "### 시간 복잡도 분석\n",
    "O(N^2)\n",
    "\n",
    "### 새로 알게 된 것\n",
    ".\n",
    "\n",
    "### 주의할 점\n",
    ".\n",
    "\n",
    "### 기타 코멘트\n",
    ".\n"
   ]
  },
  {
   "cell_type": "code",
   "execution_count": null,
   "metadata": {},
   "outputs": [],
   "source": [
    "class Solution:\n",
    "    def minimumCoins(self, prices: List[int]) -> int:\n",
    "        n = len(prices)\n",
    "        if n == 1:\n",
    "            return prices[0]\n",
    "        INF = int(1e9)\n",
    "        d = [[INF]*2 for _ in range(n)]\n",
    "        d[0][1] = prices[0]\n",
    "        d[1][0] = prices[0]\n",
    "        for i in range(1, n):\n",
    "            d[i][1] = min(d[i-1]) + prices[i]\n",
    "            for j in range(i+1, min(2*i+2, n)):\n",
    "                d[j][0] = min(d[i][1], d[j][0])\n",
    "        return min(d[-1])"
   ]
  }
 ],
 "metadata": {
  "language_info": {
   "name": "python"
  }
 },
 "nbformat": 4,
 "nbformat_minor": 2
}
