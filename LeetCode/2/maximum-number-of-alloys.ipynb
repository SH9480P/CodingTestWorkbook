{
 "cells": [
  {
   "cell_type": "markdown",
   "metadata": {},
   "source": [
    "# maximum number of alloys\n",
    "\n",
    "소요시간: 110분\n",
    "\n",
    "작성일시: 24.06.16 15:50:26\n",
    "\n",
    "출처: https://leetcode.com/problems/maximum-number-of-alloys/\n",
    "\n",
    "### 접근 방법\n",
    "n은 금속 가짓수, k는 기계 수량\n",
    "\n",
    "x, y, z가 각 금속을 구입하는데 사용한 coin이고, cost를 a, b, c라고 할 때, composition을 p, q, r이라고 할 때,  \n",
    "x >= pak - a*stock(x)  \n",
    "y >= qbk - b*stock(y)  \n",
    "z >= rck - c*stock(z)  \n",
    "x+y+z <= budget\n",
    "\n",
    "위 식을 만족하는 k값 중 최댓값을 골라야 함.\n",
    "\n",
    "k값을 binary search로 탐색하면서 최댓값을 찾을 수 있을까?\n",
    "\n",
    "### 시간 복잡도 분석\n",
    "O(logn)\n",
    "\n",
    "### 새로 알게 된 것\n",
    ".\n",
    "\n",
    "### 주의할 점\n",
    ".\n",
    "\n",
    "### 기타 코멘트\n",
    ".\n"
   ]
  },
  {
   "cell_type": "code",
   "execution_count": null,
   "metadata": {},
   "outputs": [],
   "source": [
    "class Solution:\n",
    "    def maxNumberOfAlloys(self, n: int, k: int, budget: int, composition: List[List[int]], stock: List[int], cost: List[int]) -> int:\n",
    "        max_val = 0\n",
    "        for i in range(k):\n",
    "            comp = composition[i]\n",
    "            max_val = max(self.bs(n, k, budget, comp, stock, cost), max_val)\n",
    "        return max_val\n",
    "\n",
    "    def bs(self, n, k, budget, comp, stock, cost):\n",
    "        left = 1\n",
    "        right = (budget + sum(map(lambda x: cost[x]*stock[x], range(n)))) // sum(map(lambda x: cost[x]*comp[x], range(n)))\n",
    "        while left <= right:\n",
    "            mid = (left + right) // 2\n",
    "            paid = [0]*n\n",
    "            for i in range(n):\n",
    "                paid[i] = max(comp[i]*cost[i]*mid - stock[i]*cost[i], 0)\n",
    "            if sum(paid) <= budget:\n",
    "                left = mid + 1\n",
    "            else:\n",
    "                right = mid - 1\n",
    "        return right"
   ]
  }
 ],
 "metadata": {
  "language_info": {
   "name": "python"
  }
 },
 "nbformat": 4,
 "nbformat_minor": 2
}
