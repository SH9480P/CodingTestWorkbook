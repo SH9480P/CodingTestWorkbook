{
 "cells": [
  {
   "cell_type": "markdown",
   "metadata": {},
   "source": [
    "## 팀 결성\n",
    "\n",
    "출처: <이것이 취업을 위한 코딩 테스트다 with 파이썬> pg.298\n",
    "\n",
    "전형적인 서로소 집합 알고리즘 문제."
   ]
  },
  {
   "cell_type": "code",
   "execution_count": null,
   "metadata": {},
   "outputs": [],
   "source": [
    "'''\n",
    "# input\n",
    "7 8\n",
    "0 1 3\n",
    "1 1 7\n",
    "0 7 6\n",
    "1 7 1\n",
    "0 3 7\n",
    "0 4 2\n",
    "0 1 1\n",
    "1 1 1\n",
    "\n",
    "'''\n",
    "\n",
    "def unionParent(a, b):\n",
    "    a = findParent(a)\n",
    "    b = findParent(b)\n",
    "    if a < b:\n",
    "        parent[b] = a\n",
    "    else:\n",
    "        parent[a] = b\n",
    "\n",
    "def findParent(a):\n",
    "    if a != parent[a]:\n",
    "        parent[a] = findParent(parent[a])\n",
    "    return parent[a]\n",
    "\n",
    "def checkFamily(a, b):\n",
    "    return findParent(a) == findParent(b)\n",
    "\n",
    "N, M = map(int, input().split())\n",
    "parent = list(range(N+1))\n",
    "for _ in range(M):\n",
    "    flag, a, b = map(int, input().split())\n",
    "    if flag:\n",
    "        if checkFamily(a, b):\n",
    "            print('YES')\n",
    "        else:\n",
    "            print('NO')\n",
    "    else:\n",
    "        unionParent(a, b)"
   ]
  }
 ],
 "metadata": {
  "language_info": {
   "name": "python"
  }
 },
 "nbformat": 4,
 "nbformat_minor": 2
}
