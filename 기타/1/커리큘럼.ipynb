{
 "cells": [
  {
   "cell_type": "markdown",
   "metadata": {},
   "source": [
    "## 커리큘럼\n",
    "\n",
    "출처: <이것이 취업을 위한 코딩 테스트다 with 파이썬> pg.303\n",
    "\n",
    "위상 정렬 문제.\n",
    "\n",
    "#### 새로 알게 된 것\n",
    "- 여러 개의 인자를 하나의 문자로 packing하기\n",
    "  - cost, *a, _ = list(map(int, input().split()))"
   ]
  },
  {
   "cell_type": "code",
   "execution_count": null,
   "metadata": {},
   "outputs": [],
   "source": [
    "'''\n",
    "# input\n",
    "5\n",
    "10 -1\n",
    "10 1 -1\n",
    "4 1 -1\n",
    "4 3 1 -1\n",
    "3 3 -1\n",
    "\n",
    "'''\n",
    "from collections import deque\n",
    "\n",
    "N = int(input())\n",
    "graph = [[] for _ in range(N+1)]\n",
    "indegree = [0] * (N+1)\n",
    "times = [0]\n",
    "answer = [0] * (N+1)\n",
    "\n",
    "q = deque()\n",
    "for i in range(1, N+1):\n",
    "    cost, *a, _ = list(map(int, input().split()))\n",
    "    times.append(cost)\n",
    "    if a:\n",
    "        for sunsoo in a:\n",
    "            graph[sunsoo].append(i)\n",
    "        indegree[i] += len(a)\n",
    "    else:\n",
    "        q.append(i)\n",
    "\n",
    "while q:\n",
    "    id = q.popleft()\n",
    "    answer[id] += times[id]\n",
    "    for nextId in graph[id]:\n",
    "        indegree[nextId] -= 1\n",
    "        if not indegree[nextId]:\n",
    "            q.append(nextId)\n",
    "        answer[nextId] = max(answer[nextId], answer[id])\n",
    "\n",
    "for i in range(1, N+1):\n",
    "    print(answer[i])\n"
   ]
  }
 ],
 "metadata": {
  "language_info": {
   "name": "python"
  }
 },
 "nbformat": 4,
 "nbformat_minor": 2
}
